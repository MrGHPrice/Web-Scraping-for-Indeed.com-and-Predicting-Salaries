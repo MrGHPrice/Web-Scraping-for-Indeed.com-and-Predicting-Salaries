{
 "cells": [
  {
   "cell_type": "markdown",
   "metadata": {
    "focus": false,
    "id": "69b9a648-bcc7-490d-9f9b-ea244d156bd6"
   },
   "source": [
    "# Web Scraping for Indeed.com and Predicting Salaries"
   ]
  },
  {
   "cell_type": "markdown",
   "metadata": {
    "focus": false,
    "id": "a948d79c-5527-4c0d-ab23-f5d43ce72056"
   },
   "source": [
    "### Scraping job listings from Indeed.com"
   ]
  },
  {
   "cell_type": "markdown",
   "metadata": {
    "focus": true,
    "id": "7203e0c9-e437-4802-a6ad-7dc464f94436"
   },
   "source": [
    "I will be scraping job listings from Indeed.com using BeautifulSoup. Luckily, Indeed.com is a simple text page where we can easily find relevant entries.\n",
    "\n",
    "First, I will look at the source of an Indeed.com page: (http://www.indeed.com/jobs?q=data+scientist+%2420%2C000&l=New+York&start=10\").\n",
    "\n",
    "Each job listing is underneath a `div` tag with a class name of `result`. I can use BeautifulSoup to extract those. "
   ]
  },
  {
   "cell_type": "code",
   "execution_count": 1,
   "metadata": {
    "focus": false,
    "id": "e915023e-6b0d-4982-af2a-b1e0355f4927"
   },
   "outputs": [],
   "source": [
    "URL = 'https://www.indeed.co.uk/jobs?q=data+science&l=Birmingham&start=0'"
   ]
  },
  {
   "cell_type": "code",
   "execution_count": 2,
   "metadata": {
    "focus": false,
    "id": "2efefc73-064a-482d-b3b5-ddf5508cb4ec"
   },
   "outputs": [],
   "source": [
    "import requests\n",
    "import bs4\n",
    "from bs4 import BeautifulSoup\n",
    "from tqdm import tqdm"
   ]
  },
  {
   "cell_type": "code",
   "execution_count": 3,
   "metadata": {
    "focus": false,
    "id": "2c6752c4-7704-4c94-8bc0-6f13d2d0d570",
    "scrolled": false
   },
   "outputs": [],
   "source": [
    "## YOUR CODE HERE\n",
    "r = requests.get(URL)\n",
    "\n",
    "soup = BeautifulSoup(r.text, 'html.parser')\n",
    "\n",
    "jobs = soup.find_all(name='div', attrs={'class':\"result\"})\n",
    "        "
   ]
  },
  {
   "cell_type": "markdown",
   "metadata": {
    "focus": false,
    "id": "f1eddb90-4ba8-483c-a229-77e93aa53119"
   },
   "source": [
    "### Writing 4 functions to extract each item: location, company, job, and salary."
   ]
  },
  {
   "cell_type": "code",
   "execution_count": 2,
   "metadata": {},
   "outputs": [],
   "source": [
    "def extract_company_from_result(html):\n",
    "    try:\n",
    "        return html.find(\"span\",{\"class\":\"company\"}).text\n",
    "    except:\n",
    "        return None"
   ]
  },
  {
   "cell_type": "code",
   "execution_count": 3,
   "metadata": {},
   "outputs": [],
   "source": [
    "def extract_salary_from_result(html):\n",
    "    try:\n",
    "        return html.find(\"span\",{\"class\":\"no-wrap\"}).text\n",
    "    except:\n",
    "        return None"
   ]
  },
  {
   "cell_type": "code",
   "execution_count": 4,
   "metadata": {},
   "outputs": [],
   "source": [
    "def extract_location_from_result(html):   \n",
    "    try:\n",
    "        return html.find(\"span\",{'class':'location'}).text\n",
    "    except:\n",
    "        return None\n"
   ]
  },
  {
   "cell_type": "code",
   "execution_count": 5,
   "metadata": {},
   "outputs": [],
   "source": [
    "def extract_job_from_result(html):\n",
    "    try:\n",
    "        return html.find(\"a\").text\n",
    "    except:\n",
    "        return None"
   ]
  },
  {
   "cell_type": "code",
   "execution_count": 229,
   "metadata": {
    "focus": false,
    "id": "04b0f9af-540e-402f-8292-81748707c676",
    "scrolled": false
   },
   "outputs": [
    {
     "name": "stderr",
     "output_type": "stream",
     "text": [
      "100%|██████████| 500/500 [05:40<00:00,  1.47it/s]\n"
     ]
    }
   ],
   "source": [
    "url_template = \"https://www.indeed.co.uk/jobs?q=data+science&l={}&start={}\"\n",
    "max_results_per_city = 2000\n",
    "results = []\n",
    "\n",
    "for city in ['Nottingham', 'Birmingham','Manchester','Leeds','Reading','Cardiff','Glasgow','Edinburgh','Newcastle',\\\n",
    "             'Liverpool','Bristol','Sheffield','York','Oxford','Cambridge','London']:\n",
    "    for start in tqdm(range(0, max_results_per_city, 10)):\n",
    "        r1 = requests.get(url_template.format(city,start))\n",
    "\n",
    "        soup = BeautifulSoup(r1.text, 'html.parser')\n",
    "\n",
    "        jobs = soup1.find_all(name='div', attrs={'class':\"result\"}) # Grab the results from the request (as above)\n",
    "        results.extend(jobs) # Append to the full set of results"
   ]
  },
  {
   "cell_type": "markdown",
   "metadata": {
    "focus": false,
    "id": "20339c09-5032-4e27-91be-286e9b46cd13"
   },
   "source": [
    "#### Using the functions I wrote above to parse out the 4 fields - location, title, company and salary. Creating a dataframe from the results with those 4 columns."
   ]
  },
  {
   "cell_type": "code",
   "execution_count": 234,
   "metadata": {},
   "outputs": [],
   "source": [
    "## YOUR CODE HERE\n",
    "df = [{\"job_title\":extract_job_from_result(result),\"company\":extract_company_from_result(result),\n",
    "      \"location\":extract_location_from_result(result),\"salary\":extract_salary_from_result(result)} for result in results]"
   ]
  },
  {
   "cell_type": "code",
   "execution_count": 237,
   "metadata": {
    "scrolled": true
   },
   "outputs": [
    {
     "data": {
      "text/html": [
       "<div>\n",
       "<style scoped>\n",
       "    .dataframe tbody tr th:only-of-type {\n",
       "        vertical-align: middle;\n",
       "    }\n",
       "\n",
       "    .dataframe tbody tr th {\n",
       "        vertical-align: top;\n",
       "    }\n",
       "\n",
       "    .dataframe thead th {\n",
       "        text-align: right;\n",
       "    }\n",
       "</style>\n",
       "<table border=\"1\" class=\"dataframe\">\n",
       "  <thead>\n",
       "    <tr style=\"text-align: right;\">\n",
       "      <th></th>\n",
       "      <th>company</th>\n",
       "      <th>job_title</th>\n",
       "      <th>location</th>\n",
       "      <th>salary</th>\n",
       "    </tr>\n",
       "  </thead>\n",
       "  <tbody>\n",
       "    <tr>\n",
       "      <th>0</th>\n",
       "      <td>Bertelsmann SE &amp; Co. KGaA</td>\n",
       "      <td>Bertelsmann Data Science Program 2018</td>\n",
       "      <td>United Kingdom</td>\n",
       "      <td>None</td>\n",
       "    </tr>\n",
       "    <tr>\n",
       "      <th>1</th>\n",
       "      <td>Equifax</td>\n",
       "      <td>Lead Data Analyst</td>\n",
       "      <td>Nottingham</td>\n",
       "      <td>None</td>\n",
       "    </tr>\n",
       "    <tr>\n",
       "      <th>2</th>\n",
       "      <td>Intel Ireland</td>\n",
       "      <td>Software Engineer – Driver Development - Reloc...</td>\n",
       "      <td>United Kingdom</td>\n",
       "      <td>None</td>\n",
       "    </tr>\n",
       "    <tr>\n",
       "      <th>3</th>\n",
       "      <td>Intel Ireland</td>\n",
       "      <td>NPG Software Engineer - Relocating to Shannon,...</td>\n",
       "      <td>United Kingdom</td>\n",
       "      <td>None</td>\n",
       "    </tr>\n",
       "    <tr>\n",
       "      <th>4</th>\n",
       "      <td>Boots</td>\n",
       "      <td>Advanced Science Apprenticeship Programme</td>\n",
       "      <td>Nottingham</td>\n",
       "      <td>None</td>\n",
       "    </tr>\n",
       "  </tbody>\n",
       "</table>\n",
       "</div>"
      ],
      "text/plain": [
       "                         company  \\\n",
       "0      Bertelsmann SE & Co. KGaA   \n",
       "1                        Equifax   \n",
       "2                  Intel Ireland   \n",
       "3                  Intel Ireland   \n",
       "4                          Boots   \n",
       "\n",
       "                                           job_title        location salary  \n",
       "0              Bertelsmann Data Science Program 2018  United Kingdom   None  \n",
       "1                                  Lead Data Analyst      Nottingham   None  \n",
       "2  Software Engineer – Driver Development - Reloc...  United Kingdom   None  \n",
       "3  NPG Software Engineer - Relocating to Shannon,...  United Kingdom   None  \n",
       "4          Advanced Science Apprenticeship Programme      Nottingham   None  "
      ]
     },
     "execution_count": 237,
     "metadata": {},
     "output_type": "execute_result"
    }
   ],
   "source": [
    "df.replace(to_replace=\"\\n\",value=\"\",regex=True,inplace=True)\n",
    "df.head()"
   ]
  },
  {
   "cell_type": "markdown",
   "metadata": {
    "focus": false,
    "id": "ff98ce64-78a7-441f-a675-63464e32c834"
   },
   "source": [
    "Lastly, I need to clean up salary data. \n",
    "\n",
    "1. Only a small number of the scraped results have salary information - only these will be used for modeling.\n",
    "1. Some of the salaries are not yearly but hourly or weekly, these will not be useful to me for now.\n",
    "1. Some of the entries may be duplicated.\n",
    "1. The salaries are given as text and usually with ranges."
   ]
  },
  {
   "cell_type": "markdown",
   "metadata": {
    "focus": false,
    "id": "ff98ce64-78a7-441f-a675-63464e32c834"
   },
   "source": [
    "#### Finding the entries with annual salary entries, by filtering the entries without salaries or salaries that are not yearly (filter those that refer to hour or week). Also, removing duplicate entries."
   ]
  },
  {
   "cell_type": "code",
   "execution_count": 239,
   "metadata": {
    "focus": false,
    "id": "6e259594-1c52-436b-ab9e-527e071941c1",
    "scrolled": false
   },
   "outputs": [],
   "source": [
    "## YOUR CODE HERE\n",
    "df = df.loc[~df['salary'].isnull()].drop_duplicates()\n",
    "df = df.loc[df.salary.str.contains(\"year\")]"
   ]
  },
  {
   "cell_type": "markdown",
   "metadata": {
    "focus": false,
    "id": "7d4bc860-b214-4f75-9cd0-b234830b1ec2"
   },
   "source": [
    "#### Writing a function that takes a salary string and converts it to a number, averaging a salary range if necessary."
   ]
  },
  {
   "cell_type": "code",
   "execution_count": 7,
   "metadata": {},
   "outputs": [
    {
     "data": {
      "text/plain": [
       "40575.0"
      ]
     },
     "execution_count": 7,
     "metadata": {},
     "output_type": "execute_result"
    }
   ],
   "source": [
    "def extract_number(salary):\n",
    "    salary = str(salary).replace(\",\",\"\").replace(\"£\",\"\").replace(\"$\",\"\")\n",
    "    salary = [int(s) for s in salary.split() if s.isdigit()]\n",
    "    if len(salary)>1:\n",
    "        salary = (sum(salary)/2)\n",
    "    else:\n",
    "        salary = (sum(salary))\n",
    "    return salary\n",
    "extract_number(\"£35,683 - $45,467 a year\")"
   ]
  },
  {
   "cell_type": "markdown",
   "metadata": {
    "focus": false,
    "id": "43e71edd-210e-42b1-9336-70a931f048af"
   },
   "source": [
    "\n",
    "### Saving my results as a CSV"
   ]
  },
  {
   "cell_type": "code",
   "execution_count": 40,
   "metadata": {
    "focus": false,
    "id": "783fd153-28ac-47ab-bfca-27e7c1de95b4"
   },
   "outputs": [],
   "source": [
    "## YOUR CODE HERE\n",
    "df_master = df.reset_index(drop=True)\n",
    "df_master.to_csv(\"master_df.csv\")"
   ]
  },
  {
   "cell_type": "markdown",
   "metadata": {
    "focus": false,
    "id": "04563b69-f7b6-466f-9d65-fc62c9ddee6a"
   },
   "source": [
    "## Part 2: Factors that distinguish job category\n",
    "\n",
    "Using the job postings I scraped for part 1 I will identify features in the data related to job postings that can distinguish job titles from each other. There are a variety of interesting ways I can frame the target variable, for example:\n",
    "- What components of a job posting distinguish data scientists from other data jobs?\n",
    "- What features are important for distinguishing junior vs. senior positions?\n",
    "- Do the requirements for titles vary significantly with industry (e.g. healthcare vs. government)?"
   ]
  },
  {
   "cell_type": "markdown",
   "metadata": {
    "focus": false,
    "id": "243e949e-2742-40af-872e-fec475fd306c"
   },
   "source": [
    "#### Load in the the data of scraped salaries"
   ]
  },
  {
   "cell_type": "code",
   "execution_count": 1,
   "metadata": {},
   "outputs": [],
   "source": [
    "df_master = pd.read_csv(\"master_df.csv\")"
   ]
  },
  {
   "cell_type": "code",
   "execution_count": 21,
   "metadata": {},
   "outputs": [],
   "source": [
    "df_master.drop(\"Unnamed: 0\",axis=1,inplace=True)"
   ]
  },
  {
   "cell_type": "code",
   "execution_count": 23,
   "metadata": {},
   "outputs": [
    {
     "data": {
      "text/html": [
       "<div>\n",
       "<style scoped>\n",
       "    .dataframe tbody tr th:only-of-type {\n",
       "        vertical-align: middle;\n",
       "    }\n",
       "\n",
       "    .dataframe tbody tr th {\n",
       "        vertical-align: top;\n",
       "    }\n",
       "\n",
       "    .dataframe thead th {\n",
       "        text-align: right;\n",
       "    }\n",
       "</style>\n",
       "<table border=\"1\" class=\"dataframe\">\n",
       "  <thead>\n",
       "    <tr style=\"text-align: right;\">\n",
       "      <th></th>\n",
       "      <th>company</th>\n",
       "      <th>job_title</th>\n",
       "      <th>location</th>\n",
       "      <th>salary</th>\n",
       "    </tr>\n",
       "  </thead>\n",
       "  <tbody>\n",
       "    <tr>\n",
       "      <th>5</th>\n",
       "      <td>University of Nottingham</td>\n",
       "      <td>Smart Data Scientist - KTP Associate (Fixed-term)</td>\n",
       "      <td>Nottingham</td>\n",
       "      <td>26000.0</td>\n",
       "    </tr>\n",
       "    <tr>\n",
       "      <th>6</th>\n",
       "      <td>Beauhurst</td>\n",
       "      <td>Data Curator</td>\n",
       "      <td>Nottingham</td>\n",
       "      <td>16000.0</td>\n",
       "    </tr>\n",
       "    <tr>\n",
       "      <th>10</th>\n",
       "      <td>Harnham</td>\n",
       "      <td>JUNIOR DATA SCIENTIST</td>\n",
       "      <td>Nottingham</td>\n",
       "      <td>32000.0</td>\n",
       "    </tr>\n",
       "    <tr>\n",
       "      <th>14</th>\n",
       "      <td>NERC</td>\n",
       "      <td>Environmental Statistician</td>\n",
       "      <td>Nottingham</td>\n",
       "      <td>33227.0</td>\n",
       "    </tr>\n",
       "    <tr>\n",
       "      <th>15</th>\n",
       "      <td>Beauhurst</td>\n",
       "      <td>Data Curator</td>\n",
       "      <td>Nottingham</td>\n",
       "      <td>16000.0</td>\n",
       "    </tr>\n",
       "  </tbody>\n",
       "</table>\n",
       "</div>"
      ],
      "text/plain": [
       "                         company  \\\n",
       "5       University of Nottingham   \n",
       "6                      Beauhurst   \n",
       "10                       Harnham   \n",
       "14                          NERC   \n",
       "15                     Beauhurst   \n",
       "\n",
       "                                            job_title    location   salary  \n",
       "5   Smart Data Scientist - KTP Associate (Fixed-term)  Nottingham  26000.0  \n",
       "6                                        Data Curator  Nottingham  16000.0  \n",
       "10                              JUNIOR DATA SCIENTIST  Nottingham  32000.0  \n",
       "14                         Environmental Statistician  Nottingham  33227.0  \n",
       "15                                       Data Curator  Nottingham  16000.0  "
      ]
     },
     "execution_count": 23,
     "metadata": {},
     "output_type": "execute_result"
    }
   ],
   "source": [
    "df_master.head()"
   ]
  },
  {
   "cell_type": "code",
   "execution_count": 2,
   "metadata": {},
   "outputs": [
    {
     "data": {
      "text/plain": [
       "'\\npotential job title keywords and groups:\\nDirector\\nAnalyst\\nScientist\\nEngineer\\nBusiness\\nConsultant\\nSenior\\nJunior\\nManager\\nOfficer\\nDeveloper\\nHead of\\nProgrammer\\nExecutive\\nJava\\nPython\\nLead\\nIntelligence\\nMachine Learning\\nJavascript\\nDeveloper\\nGraduate\\nResearch\\n\\n'"
      ]
     },
     "execution_count": 2,
     "metadata": {},
     "output_type": "execute_result"
    }
   ],
   "source": [
    "\"\"\"\n",
    "potential job title keywords and groups:\n",
    "Director\n",
    "Analyst\n",
    "Scientist\n",
    "Engineer\n",
    "Business\n",
    "Consultant\n",
    "Senior\n",
    "Junior\n",
    "Manager\n",
    "Officer\n",
    "Developer\n",
    "Head of\n",
    "Programmer\n",
    "Executive\n",
    "Java\n",
    "Python\n",
    "Lead\n",
    "Intelligence\n",
    "Machine Learning\n",
    "Javascript\n",
    "Developer\n",
    "Graduate\n",
    "Research\n",
    "\n",
    "\"\"\""
   ]
  },
  {
   "cell_type": "code",
   "execution_count": 53,
   "metadata": {
    "focus": false,
    "id": "588f9845-6143-4bcc-bfd1-85d45b79303d",
    "scrolled": true
   },
   "outputs": [
    {
     "data": {
      "text/plain": [
       "array(['Data Analyst', 'Data Scientist',\n",
       "       'Director, Risk and Intelligence', 'Data Manager',\n",
       "       'Software Engineer', 'Software Tester', 'Research Fellow',\n",
       "       'Data Scientist - Commercial Banking',\n",
       "       'Data Analyst - Birmingham, Up to £40k',\n",
       "       'FINDS Scientific Officer',\n",
       "       'Undergraduate Programme Administrator',\n",
       "       'Administrator - Undergraduate Programmes', 'Business Analyst',\n",
       "       'Biostatistician', 'O&M Performance Analyst',\n",
       "       'Administrator Undergraduate Programmes: School of Dentistry...',\n",
       "       'Microsoft Analytics Consultant', 'SAS/SQL- LEAD INSIGHT ANALYST',\n",
       "       'Postdoctoral research fellow in blockchain for healthcare (0...',\n",
       "       'Senior Analytics Manager - SAS, Hadoop, SQL, R ...',\n",
       "       'Senior Analytics Manager', 'Graduate Statistical Analysts',\n",
       "       'Senior Customer Analytics Manager',\n",
       "       'Senior Data Mining Consultant – Analytics Solutions',\n",
       "       'Software Developer',\n",
       "       'Senior Insight Analyst - Birmingham, Perm, Up to £45k',\n",
       "       'Settlement Analyst', 'Eden Dairy Technologist Apprenticeship',\n",
       "       'Head of UK Manufacturing - Blue-chip international business',\n",
       "       'Programmer', 'Graduate Software Developer',\n",
       "       'Environmental Scientist', 'digital marketing analyst',\n",
       "       '.Net Software Engineer', 'Metallurgist',\n",
       "       'Food/Packaging Quality Lead Auditor',\n",
       "       'Marketing Officer (School of Engineering and Applied Science...',\n",
       "       'Hospital Account Executive',\n",
       "       'Maintenance Manager – Technical Services',\n",
       "       'Personal Assistant to the Head of Institute for Health and S...',\n",
       "       'Technical Analyst',\n",
       "       'Marie Sklodowska-Curie ITN Early Stage Researcher (Computer...',\n",
       "       'Applications Software Engineer', 'C# Desktop Engineers',\n",
       "       'Global Project Manager, Market Source for Major Accounts – L...',\n",
       "       'Laboratory Supervisor, Food Nutritional Analysis',\n",
       "       'Senior PC Analyst', 'Air Quality Consultant / Senior Consultant',\n",
       "       '2Nd Line It Support', 'Test Manager - Automation',\n",
       "       'Virtual and Augmented Reality Software Engineer',\n",
       "       'SUBJECT LEADER IN SCIENCE - TLR2a',\n",
       "       'Quality System Management Advisor', 'Full Stack .NET Developer',\n",
       "       'IT Helpdesk-Specialist',\n",
       "       'C++ Developer / C++ Software Engineer - West Midlands',\n",
       "       'Hospital Account Executive - Cardio - Coventry, Warwickshire',\n",
       "       'Solicitor', 'Operations and Marketing Manager',\n",
       "       'Digital Marketing Google Campaign Manager',\n",
       "       'Senior Java Developer',\n",
       "       'Senior Sales Consultant – Optimisation Technology',\n",
       "       '2nd/3rd line/IT Support Technician /Field IT Engineer',\n",
       "       'Lead Engineer Advanced Propulsion',\n",
       "       '2nd Line IT Support Engineer', 'Analytical Chemist',\n",
       "       'Quality Engineer', 'Research &amp; Design Engineer',\n",
       "       'Quality Engineer Lead', 'Quality Assurance Engineer',\n",
       "       'Test Technician', 'MULTI-SKILLED MAINTENANCE ENGINEER',\n",
       "       'Engineering Technician - Worcestershire - £25k',\n",
       "       'Maintenance Engineer', 'Senior Energy Engineer',\n",
       "       'Hybrid Control and Integration Engineer',\n",
       "       'Salesforce Technical Architect : Amsterdam, Netherlands',\n",
       "       'Graduate Thermodynamics Engineer - Coventry, CV10, Warwicksh...',\n",
       "       'Thermodynamics Engineer - Coventry, CV10, Warwickshire',\n",
       "       'Software Engineer (graduate) - Java, Python, Machine Learnin...',\n",
       "       'Experimental Officer - Photon Science Institute',\n",
       "       'Researcher / Senior Researcher',\n",
       "       'Junior Business Intelligence Developer - Manchester',\n",
       "       'Data Scientist - Manchester', 'Senior/Principal Data Analyst',\n",
       "       'Data Scientist, Predictive Financial Services',\n",
       "       'Research Assistant', 'Analytics Assistant (Graduate Scheme)',\n",
       "       'Senior Data Scientist', 'Research Associate in Marketing',\n",
       "       'Statistical Modelling Analyst - Decision Science',\n",
       "       'Digital Director', 'Rectification Analyst',\n",
       "       'Mobile Developer Apprentice, Summer 2018 start',\n",
       "       'Developer (Machine Learning, Cognitive Computing)',\n",
       "       'Graduate Investment Analyst', 'Analyst- Skills and Employment',\n",
       "       'Mid Level Tester', 'Commercial Analyst',\n",
       "       'Rectifications Analyst - 12 month Fixed Term Contract',\n",
       "       'Engineering Internship', 'Lead Credit Risk Analyst',\n",
       "       'Biological Analyst', 'Technical Architect, (C# / Java / PHP)',\n",
       "       'Documentation and Enquiries Officer', 'Sql Developer',\n",
       "       'Business Intelligence Developer',\n",
       "       'Data Analytics Delivery Manager',\n",
       "       'Data Science Analyst – Global Tech Company (Manchester)',\n",
       "       'Public Relations Officer', 'Decision Science Modeller',\n",
       "       'Head of Biomedical Curation', 'Head of Bioinformatics',\n",
       "       'Lecturer in the Management of Projects',\n",
       "       'Product Application Specialist', 'Senior Lecturer (Statistics)',\n",
       "       'Applications Architect & Portfolio Manager',\n",
       "       'Scala Developer - Central Manchester',\n",
       "       'Pricing & Market Access Consultant',\n",
       "       'IT Operations and Security Manager', 'Technical Account Manager',\n",
       "       'Graduate Trainee Clinical Physiologist',\n",
       "       'Geoenvironmental Director', 'Software Engineer (graduate)',\n",
       "       'Audio Visual Technician',\n",
       "       'Lecturer / Senior Lecturer in Computer Science',\n",
       "       'Senior Software Developer',\n",
       "       'Senior Statistical Modelling Analyst', 'Hydrogeologist',\n",
       "       'Senior Data Analyst - Pricing & Investment',\n",
       "       'Science Teacher with TLR - Key Stage 3 Lead',\n",
       "       'Senior Pricing Analyst', 'Construction Technical Apprentice',\n",
       "       'Senior Research Technologist', 'Clinical Nurse Reviewer',\n",
       "       'Join the Agile Digital Revolution in Manchester',\n",
       "       'Backend Developer', 'Graduate Sales Engineer',\n",
       "       'Solutions Architect - Global Consultancy - MCR',\n",
       "       'Senior Machine Learning Engineer',\n",
       "       'Business Insight Analyst - Warrington',\n",
       "       'Quantity Surveying Apprenticeship',\n",
       "       'Occupational Health Specialist',\n",
       "       'Senior Analyst – Pricing & Investment',\n",
       "       'Software Development Manager, Scrum Master, Digital',\n",
       "       'Agile Business Analyst', 'Business Development Executive',\n",
       "       'Senior Microbiologist', 'SQL DBA / Developer',\n",
       "       'Senior Consultant - Optimisation',\n",
       "       'Senior Air Quality Consultant - Manchester',\n",
       "       'Software Engineer (C#/.NET)', 'Science Teacher - KS3 Coordinator',\n",
       "       'Commercial Solicitor',\n",
       "       'Research & Development Laboratory Technician',\n",
       "       'Senior In Vivo Study Manager',\n",
       "       'Medical Science Liaison - Oncology - UK North',\n",
       "       'Environmental Consultant / Senior Consultant (Flood Risk)',\n",
       "       'Senior/Principal Medical Writer - Create Behavioural Change',\n",
       "       'Full Stack Developer - Java 8 / Vue.js / JavaScript',\n",
       "       'Lead software engineer', 'Marketing Manager',\n",
       "       'Procurement Manager', 'Calibration Supervisor',\n",
       "       'Senior Medical Writer - #medcomms', 'Qa Officer',\n",
       "       'Commercial Sales Manager', 'G7 ServiceNow Lead Test Engineer',\n",
       "       'IT Technician/Infrastructure Engineer', 'Presales Engineer',\n",
       "       'Geoenvironmental Engineer / Senior Geoenvironmental Engineer...',\n",
       "       'NLP Research Engineer', 'Shift Chemist',\n",
       "       'Graduate Data Scientist', 'Junior Data Analyst/Scientist/Modeler',\n",
       "       'Analytics Manager – SAS/SQL/Modelling/Statistics/Strategy',\n",
       "       'Analytics Manager', 'Data Insight Analyst',\n",
       "       'Senior Modelling and Forecasting Manager',\n",
       "       'Data Engineer/Scientist', 'SAS Programmer',\n",
       "       'Research Scientist - Digital Manufacturing',\n",
       "       'Laboratory Technician Apprentice', 'Forecasting Manager',\n",
       "       'Applied Modelling Analyst - SAS / R / Matlab - Leeds',\n",
       "       'Policy Support Adviser',\n",
       "       'Research Fellow in Synoptic-scale Dynamics and Forecasting f...',\n",
       "       'Regulatory Scientists - Various Scientific Officer Posts',\n",
       "       'Research Fellow in Ensemble Weather Forecasting for Africa',\n",
       "       'Research Fellow in Intelligent Simulation of Fabrics',\n",
       "       'Statistical Modelling Analyst – SAS/SQL',\n",
       "       'Decision Science Analyst',\n",
       "       'Statistical Modelling & Forecasting Manager',\n",
       "       'Statistical Modelling Manager - Leeds - £60,000', 'UI Developer',\n",
       "       'Junior Decision Science Analyst',\n",
       "       'Senior Credit Risk Analytics Consultant - Leeds', 'Administrator',\n",
       "       'Quality Control Assistant', 'Junior Systems Administrator',\n",
       "       'Laboratory Technician', 'Senior Forecasting Analyst',\n",
       "       'Senior Modelling & Forecasting Analyst', 'Trial Support Officer',\n",
       "       'Strategy Manager',\n",
       "       'SOFTWARE DEVELOPERS JUNIOR AND SENIOR - TOP FS CLIENT',\n",
       "       'Graduate Database Developer, SQL', 'Software Developer Asp .Net',\n",
       "       'Technical Assistant', 'Senior Statistician Officer',\n",
       "       'Senior Collections Manager', 'Supply Chain Administrator',\n",
       "       'Regulatory Affairs Officer - Medical Devices',\n",
       "       'Sensory Panel Leader',\n",
       "       'Senior Javascript Developer – UI Developer – Central Leeds,...',\n",
       "       'Graduate Environmental Monitoring Technician',\n",
       "       'Digital Marketing Executive', 'Study Director (47779)',\n",
       "       'Windows System Administrator Senior',\n",
       "       'Pharmacovigilance Officer Yorkshire United Kingdom',\n",
       "       'SENIOR CREDIT RISK CONSULTANT - SAS', 'Quality Manager',\n",
       "       'Quality Manager to £35k', 'Manufacturing Quality Manager',\n",
       "       'UI / UX Designer',\n",
       "       'Software developers Junior and heavy weight - Top FS client...',\n",
       "       'Geotechnical Engineering Manager',\n",
       "       'Junior Geoenvironmental Engineer – West Yorkshire',\n",
       "       'Embedded Systems Engineer, York, £38,000', 'Data scientist',\n",
       "       'Research Scientist (Machine Learning, Computer Vision, Data...',\n",
       "       'Data Scientist / Software Developer',\n",
       "       'Statistical Programmer/Data Scientist', 'Data Delivery Analyst',\n",
       "       'Data Engineer – Management Position (Reading)',\n",
       "       'Assay Development/Quality Control Scientist',\n",
       "       'Bioinformatician in Statistical Cancer Genomics',\n",
       "       'PREDICTIVE ANALYST/DATA SCIENTIST',\n",
       "       'Quality Analyst (computing) /Test Analyst (Expiry: 03/05/201...',\n",
       "       'Senior data scientist',\n",
       "       'Postdoctoral Research Assistant - Oxford Emirates Data Scien...',\n",
       "       'Senior Data Scientist (Mezurio App)', 'IT Systems Administrator',\n",
       "       'IS PMO reporting analyst', 'Performance Analyst',\n",
       "       'EXPERIENCED DATA SCIENTIST',\n",
       "       'Process Development Technician or Scientist',\n",
       "       'ERP System Administrator', 'DATA ENGINEER', '– South Central',\n",
       "       'Quality Control Analyst',\n",
       "       'Data Engineer (Predictive Analytics / Data Science)',\n",
       "       'Qualitative Researcher (Cancer Early Diagnosis)',\n",
       "       'Researcher on FADAMS', 'Laboratory Assistant',\n",
       "       'Scientific Manufacturing Technician – High Apprenticeship',\n",
       "       'Research Fellow in Machine Listening', 'Research Scientist',\n",
       "       'Postdoctoral Research Associate', 'Clinical Trial Manager',\n",
       "       'Senior Research Fellow (two posts)',\n",
       "       'Senior Data Centre Operator', 'Senior Data Analyst',\n",
       "       'Postdoctoral Researcher in Bioinformatics',\n",
       "       'Postdoctoral Researcher in Sociogenomics', 'Investment Associate',\n",
       "       'Quality Control Manager',\n",
       "       'Innovation and Clinical Science Assistant 12 Month Placement',\n",
       "       'Director of Scientific Computing Department',\n",
       "       'Senior Machine Learning Researcher – Python',\n",
       "       'Graduate Machine Learning Researcher',\n",
       "       'Research Fellow PEPPER Project 2x Posts', 'Senior Statistician',\n",
       "       'Part-time Senior Information Manager',\n",
       "       'iOS Mobile Apps Developer', 'Senior Software Developer (Azure)',\n",
       "       'Creative Copywriter', 'Graduate Security Analyst',\n",
       "       'Web Developer', 'C++ Developer - Cyber Security',\n",
       "       'Strategic Bids Manager', 'SQL Data Engineer - Oxford',\n",
       "       'Principal Beamline Scientist, I06',\n",
       "       'Analysis Research Software Engineer',\n",
       "       'Graduate Scientist - Synthetic Chemistry, Oxford, £30-35K',\n",
       "       'Senior Data Engineer / Developer',\n",
       "       'Postdoctoral Research Scientist in Neuroscience',\n",
       "       'Clinical Data Manager - UK TAVI',\n",
       "       'Programme Manager/Project Manager',\n",
       "       'Subject Tutor Computer Science', 'IT Network Architect',\n",
       "       'Project Officer',\n",
       "       'Recruitment Consultant - Data Science, Reading, £20,000 - £2...',\n",
       "       'Research Associate in the Social Science of Animal Research',\n",
       "       'Integration Architect', 'Support Desk Coordinator',\n",
       "       'Big Data Architect', 'International Partnership Officer',\n",
       "       'Estates Space Planning Manager',\n",
       "       'Postdoctoral Researcher in Global Health and Population Scie...',\n",
       "       'Microbiology laboratory analyst',\n",
       "       'Facilities Manager BDI Building',\n",
       "       'Pharmacovigilance Associate 12 month FTC',\n",
       "       'Technical Assistant, Food Manufacturing',\n",
       "       'Business Support Co-ordinator',\n",
       "       'Senior Software Engineer in Test',\n",
       "       'Senior Software Developer / Engineer - Newbury', 'Auditor',\n",
       "       'Application\\xa0Support Analyst – Reading', 'Modelling Analyst',\n",
       "       'Information Security Officer', 'Estates Customer Service Manager',\n",
       "       'Project Manager – Software Development',\n",
       "       'Human Factors Research Assistant', 'Statistical Programmer',\n",
       "       'Integration Architect- Based in Reading (UK)',\n",
       "       'Research Fellow in Nutritional Biochemistry',\n",
       "       'Junior Project Manager', 'Application Support Analyst',\n",
       "       'Spectroscopy Group Leader', 'Editorial Assistant – Entry Level',\n",
       "       'Postdoctoral Research Assistant in Finite Element Modelling',\n",
       "       'Business Modelling Analyst',\n",
       "       'Senior Product Assurance Specialist',\n",
       "       'Postdoctoral Research Assistant in Computation Solid Mechani...',\n",
       "       'Mycoplasma diagnostic lead scientist', 'Product Coordinator',\n",
       "       'Junior Marketing Project Manager', 'Waste Consignment Technician',\n",
       "       'Senior Buyer',\n",
       "       'Postdoctoral Research Officer in Middle East Studies',\n",
       "       'Research Fellow in Quantum-Resistant Cryptography for Truste...',\n",
       "       'Quality Assurance Associate - GLP',\n",
       "       'Digital Marketing Executive – SEO', 'JUNIOR FULL-STACK DEVELOPER',\n",
       "       'Lead Analyst',\n",
       "       'Product Safety Specialist / Compliance Specialist',\n",
       "       'Senior Full Stack Developer (PHP)',\n",
       "       'Post Graduate Research Assistant in Augmented Reality',\n",
       "       'Digital Content Producer', 'QA Associate - GLP, ISO9001',\n",
       "       'Development Chemist AE1072', 'Backend Engineer - Python, Cloud',\n",
       "       'Software Support Analyst', 'Editor', 'Salesforce Administrator',\n",
       "       'Senior Software Engineer', 'Lecturer in Computer Science',\n",
       "       'Software Consultant (Big Data / Data Science projects)',\n",
       "       'Energy Advisor', 'Recruitment Consultant',\n",
       "       'Pre-Sales Systems Engineer', 'Reporting & Insights Executive',\n",
       "       'Java Software Engineer', 'Graduate Commercial Assistant',\n",
       "       'Senior Scientist or Senior Technical Officer - Evaluation an...',\n",
       "       'Senior Mgr Regional Regulatory Lead', 'C++ Software Engineer',\n",
       "       'C# Software Engineer - Medical Imaging',\n",
       "       'Graduate Software Support Analyst',\n",
       "       'Business Analyst / Project Manager',\n",
       "       'Field Application Specialist Sales',\n",
       "       'Sales & Marketing Operations Executive',\n",
       "       'Digital Marketing Business Development Manager',\n",
       "       'Senior Medical Writer', 'Optometrist', 'Front End Developer',\n",
       "       'Postdoctoral Research Assistant: Augmented Reality and Weara...',\n",
       "       'Research Associate on Algorithmic Verification of String-Man...',\n",
       "       'Test Automation Engineer, Python',\n",
       "       'French Speaking Quality Manager',\n",
       "       'Research Associate: In situ Imaging and Probing the Fundamen...',\n",
       "       'PhD Student - Correlated Cryo - Single Molecule Fluorescence...',\n",
       "       'Postdoctoral Research Assistant – The Genomic Basis of Pheno...',\n",
       "       'Postdoctoral Research Assistant – Genome Evolution and Insec...',\n",
       "       'Senior Technical Support Engineer', 'Junior Process Engineer',\n",
       "       'DevOps Engineer',\n",
       "       'Postdoctoral Research Assistant in Satellite Remote Sensing...',\n",
       "       'CRM Executive', 'Technical Support Engineer - IT',\n",
       "       'INFRASTRUCTURE ENGINEER',\n",
       "       'Biochemist / Chemist – Lab-on-chip R&D',\n",
       "       'JAVA SCALA DEVELOPER / JAVA SCALA ENGINEER',\n",
       "       'Graduate Test Engineer', 'AWS DevOps Engineer',\n",
       "       'Tissue Handling Technician - Pancreatic Tissue and Cancer Sa...',\n",
       "       'Research Associate (Statistical Geneticist/Bioinformatician)',\n",
       "       'Scientific Researcher', 'DATA SCIENTIST - CARDIFF',\n",
       "       'EO Data Analyst, Asylum Operations, Cardiff',\n",
       "       'Research Associate',\n",
       "       'Research Software Engineer (Research Associate)',\n",
       "       'Data Strategy Reporting and MI Manager',\n",
       "       'Assay and Development Scientist', 'Head of Data Management',\n",
       "       'Research Associate, DECIPHer',\n",
       "       'Research Associate (Computer Vision/Computational Neuroscien...',\n",
       "       'IT Support Assistant / Senior Library Assistant',\n",
       "       'Research Associate (Wellcome Trust)',\n",
       "       'Administrative Officer: Projects', 'Microbiologist',\n",
       "       'Administrative Assistant', 'Scheduling Support Officer',\n",
       "       'Administration Officer - Triage Study',\n",
       "       'Grants and Awards Team Leader',\n",
       "       'Research Recruitment Co-ordinator - 100,000 Genome Project',\n",
       "       'Test Analyst', 'Statistical Modelling Manager',\n",
       "       'Systems Administrator (SA)', 'SENIOR CREDIT RISK ANALYST',\n",
       "       'Senior Research Officer', 'Quality Assurance (OPERATIONAL GMP)',\n",
       "       'Web Systems Software Engineer',\n",
       "       'Post-Doctoral Research Associate in Applied Mathematics',\n",
       "       'Inspector', 'Senior Groundwater Modeller', 'Research Technician',\n",
       "       'Head Of Development', 'BUSINESS CHANGE MANAGER',\n",
       "       'Senior Formulation Scientist', 'Analytical Team Leader (Pharma)',\n",
       "       'Business Process Analyst',\n",
       "       'Cleaning Validation Specialist (Pharma)',\n",
       "       'Litter Free Coast and Sea Somerset Community Engagement Offi...',\n",
       "       'Solid Dose Technicians (8)',\n",
       "       'Research Associate in Experimental Petrology',\n",
       "       'Research Associate in Cookpad Networks',\n",
       "       'Senior Flood Risk / Drainage Consultant', 'Data Administrator',\n",
       "       'QC Microbiologist Team Leader (Sterile)',\n",
       "       'Research Associate in Epigenetics and Social Science',\n",
       "       'AnalyticalTeam Leader (Synthetic)',\n",
       "       'Research Associate or Senior Research Associate in Quantum C...',\n",
       "       'Software Project Manager', 'Senior Project Manager (Pharma)',\n",
       "       'Quality Assurance Technologist', 'PHP Developer',\n",
       "       'QA (QP Training Possibility) Engineering, Laboratory, Manufa...',\n",
       "       'Data Administrator - FTC',\n",
       "       'Research Associate in Responsive Nanocomposites for Sustaina...',\n",
       "       'Senior Security Engineer', 'Security Engineer',\n",
       "       'Postdoctoral Research Associate or Senior Research Associate...',\n",
       "       'Network Engineer', 'Junior-Mid Data (Science) Engineer - BERLIN',\n",
       "       'Principle Mechanical Design Engineer',\n",
       "       'Sales Support Intern - Artificial Intelligence',\n",
       "       'Scientific Administrator',\n",
       "       'Junior Consultant (Big Data) with Agile Solutions',\n",
       "       'Electron Microscopy Analyst', 'Database Manager',\n",
       "       'Translational Research Development Manager',\n",
       "       'Research Assistant (Childsmile)', 'MVLS Research Data Officer',\n",
       "       'Technician', 'Laboratory Manager', 'UI/Data Engineer',\n",
       "       'Research Manager', 'Bioinformatician/Computational Biologist',\n",
       "       'Lecturer in Animal Biology',\n",
       "       'Assistant Editor of Cardiovascular Research',\n",
       "       'Senior Managing Editor', 'Lecturer/Senior Lecturer',\n",
       "       'Institute of Cancer Sciences Technician - part time',\n",
       "       'Learning Technologist', 'Academic Liaison Librarian',\n",
       "       'SCREDs Clinical Lecturer', 'Laboratory Support Operative',\n",
       "       'Research Project Administrator', 'BI Developer (462)',\n",
       "       'Scrum Master', 'Senior Category Buyer', 'PHP Web Developer',\n",
       "       'Research Associate in Process Analysis',\n",
       "       'Business Analyst (Engineering Services)',\n",
       "       'Senior Windows Servers and Virtualization Administrator',\n",
       "       'Project Co-ordinator - Pharmaceutical Science and Supply Cha...',\n",
       "       'Assistant Professor',\n",
       "       'Research Assistant/Associate in Radar/RF systems and sensing',\n",
       "       'Professor in Magnetoencephalography (MEG) (2 positions)',\n",
       "       'Pharmaceutical Graduate Project Co-ordinator',\n",
       "       'Resourcer / Graduate Recruitment Consultant',\n",
       "       'Clinician in Small Animal Soft Tissue Surgery',\n",
       "       'Senior HR Advisor (Employee Lifecycle)',\n",
       "       'Research Assistant/Associate in Access to Justice for Vulner...',\n",
       "       'Research Associate/Fellow for the project Work on Demand: Co...',\n",
       "       'Junior IT Recruitment Consultant',\n",
       "       'Clinician in Veterinary Oncology', 'Embedded Systems Engineer',\n",
       "       'Senior Clinician/Clinician in Veterinary Oncology',\n",
       "       'GIS Technician', 'Data Coordinator (Temporary)',\n",
       "       'Postdoctoral Research Associate - Energy demand modelling of...',\n",
       "       'PhD Studentship', 'Ecosystem and Green House Gases Scientist',\n",
       "       'Cloud Architect', 'Trading Assistant - Graduate',\n",
       "       'UNIX / Linux / Datacomm Engineers (onshore / offshore)',\n",
       "       'Principal Control Systems Designer', 'Lead Data Scientist',\n",
       "       'Postdoctoral Research Associate Environmental Acoustics and…',\n",
       "       'Professor in Cyber Security - FT, Permanent',\n",
       "       'Lecturer in Digital Media and Communications (Communications...',\n",
       "       'Database Support Analyst', 'MSIS Technical Innovation Specialist',\n",
       "       'Assistant Molecular Biologist',\n",
       "       'Software Engineer - C++ - Edinburgh or Aberdeen',\n",
       "       'Assistant Animal Technician',\n",
       "       'Scientific Software Development Engineer Permanent',\n",
       "       'CREDIT RISK MODELLER',\n",
       "       'Software Deployment Engineer – Oilfield Technologies Permane...',\n",
       "       'Software Engineer C++', 'Senior Metallurgist',\n",
       "       'Graduate Recruitment Consultant / Researcher',\n",
       "       'Senior EIA Project Manager',\n",
       "       'Recruitment Consultants - any sector into international',\n",
       "       'Digital Architect',\n",
       "       'Lecturer in Digital Media and Communications (Media Industri...',\n",
       "       'Senior Control Systems Engineer',\n",
       "       'Research Engineer - Automation / Robotics',\n",
       "       'Graduate/ Postgraduate Data Scientist', 'Information Officer',\n",
       "       'Head of Data Science', 'Lecturer in Geospatial Analysis',\n",
       "       'Data Coordinator 1', 'Head OF BI',\n",
       "       'Senior Quality Associate (Newcastle)', '.NET Developer',\n",
       "       'School and Finance Support Officer',\n",
       "       'Software and Machine Learning Engineer', 'Digital Programme Lead',\n",
       "       'Senior Scientific Data Analyst',\n",
       "       'Graduate Developer (Summer 2018 intake)',\n",
       "       'Graduate Developer (Immediate Start)',\n",
       "       'Research Associate/Senior Research Associate in Genomics',\n",
       "       'Systems Development Manager', 'Paid Social Advertising Manager',\n",
       "       'Laboratory Analyst - Pharmaceutical', 'Accounts Payable Clerk',\n",
       "       'Full Stack Software Engineer',\n",
       "       'Postdoctoral Research Associate In The Centre For Extragalac...',\n",
       "       'Development Development Engineer', 'Service Desk Engineer',\n",
       "       'Python Developer', 'Data Scientist - R, Python',\n",
       "       'Data Analyst - R, Python, SQL', 'Assistant Head of Science',\n",
       "       'Lecturer in Artificial Intelligence Grade 8',\n",
       "       'Quality Controller', 'Postdoctoral Research Asst',\n",
       "       'Senior Data Scientist - Liverpool - £70, 000',\n",
       "       'Postdoc. Research Fellow EPSRC Grant', 'Project Manager Grade 7',\n",
       "       'Production Training Coordinator', 'Regulatory Associate',\n",
       "       'Reproductive Biology Coordinator', 'Quality Assurance Officer',\n",
       "       'Graduate Research Executive', 'Senior Quality Assurance Officer',\n",
       "       'QC Laboratory Manager', 'Clinical Research Manager',\n",
       "       'Senior Statistical Modeller',\n",
       "       'Senior Research Executive - Pharma Market Research',\n",
       "       'Regulatory/ Compliance Specialist- Cheshire',\n",
       "       'Junior Web Developer', 'SQL Software Support',\n",
       "       'Group Quality Manager', 'Sap Consultant',\n",
       "       'Postdoctoral Research Associate in Computational Geometry an...',\n",
       "       'Head of Paid Media',\n",
       "       'Postdoctoral Research Associate in Computational Materials D...',\n",
       "       'Regulatory Affairs Manager',\n",
       "       'Analytical Chemist - Plastics/Colour',\n",
       "       'KTP Health Data Scientist - KTP Associate (Fixed Term Contra...',\n",
       "       'Telematics Data Scientist', 'Data Security Analyst',\n",
       "       'Epidemiology and Information Analyst-919-AP-1333271-EXT',\n",
       "       '26008490-EXT - Principal Public Health Intelligence Analyst',\n",
       "       'Trainee Application Support Analyst',\n",
       "       'Senior Software Engineer - Bioinformatics',\n",
       "       'Technology Consultant – Graduate Programme – Bristol',\n",
       "       'Supply Chain Management Degree Apprenticeship - Bristol, UK',\n",
       "       'Metadata Developer', 'Sports Psychologist',\n",
       "       'Senior Software Developers - Machine Division / Image Proces...',\n",
       "       'b2b Conference & Events Manager', 'Software Developers: UI (web)',\n",
       "       'Senior Software Engineer, Distributed Build Systems',\n",
       "       'Contaminated Land Consultant - Bristol',\n",
       "       'Junior Front End Web Developer', 'Analysis Consultant',\n",
       "       'Conference and Events Manager',\n",
       "       'Volunteering Administration Support Officer',\n",
       "       'Senior Software Engineer. Frome', 'Office Assistant',\n",
       "       'Innovation Programmer (C++)', 'Software Assurance Engineer',\n",
       "       'Lab Technician', 'Compliance Officer', 'GIS Technical Architect',\n",
       "       'Java Developer', 'Cyber Security Engineer',\n",
       "       'Marie Sklodowska-Curie Innovative Training Network MAESTRO P...',\n",
       "       'Trade effluent technician',\n",
       "       'NLP Engineer – Natural Language Processing',\n",
       "       'Building Services Consulting Engineer', 'Test Engineer- PSE',\n",
       "       'German and Italian speaking Customer service',\n",
       "       'Senior Erlang Software Engineer', 'Graduate Data Analyst',\n",
       "       'Software Engineering Intern',\n",
       "       'Marie Curie Early Stage Researcher in Verification and Valid...',\n",
       "       'Research Associate in One-shot Learning of Human Motion',\n",
       "       'Physiotherapist', 'Researcher - Fixed-term for 36 months',\n",
       "       'Senior Data Science Analyst',\n",
       "       'Research Associate / Fellow in Health Econometrics',\n",
       "       'Crop Research Consultant', 'SalesForce Administrator/Developer',\n",
       "       'SalesForce Developer -44791', 'Air Quality Consultant',\n",
       "       'Graduate .NET Developer', 'Senior .NET Developer',\n",
       "       'Process Engineer', 'Product Design Engineer', 'Data Curator',\n",
       "       'Environmental Statistician',\n",
       "       'Regulatory Specialists - Biocides & Pesticides Delivery Team...',\n",
       "       'Senior Scientist (Large Molecules)',\n",
       "       'Scientist - Immunochemistry', 'Graduate Junior Data Technician',\n",
       "       'Research Fellow in Pharmarceutical Crystallisation Process M...',\n",
       "       'Demand & Supply Planner', 'QA Software Automation Test Engineer',\n",
       "       'Lead Scientist', 'Principal Medical Writer',\n",
       "       'Energy Analyst (Forecasting Models, Big Data)',\n",
       "       'Senior Public Health Intelligence Analyst',\n",
       "       'Senior Researcher in Information Systems',\n",
       "       'Graduate Life Science Analyst',\n",
       "       'ARC - GPU Research Software Advisor',\n",
       "       'Energy Data Scientist Sandwich Student',\n",
       "       'C++ Software Engineer, Python, R&D', 'Graduate Scheme',\n",
       "       'Knowledge Exchange Officer - Research and Integration',\n",
       "       'Project Manager',\n",
       "       'Research Associate, Water Resources Hydrologist',\n",
       "       'Research Associate - Spatial Modeller and Ecologist',\n",
       "       'Online GIS Support',\n",
       "       'Strategic Portfolio Management Office Analyst',\n",
       "       'Postdoctoral Research Assistant',\n",
       "       'Associate Scientist - Antibody Discovery',\n",
       "       'Lead Software Developer', 'C++ Developer',\n",
       "       'Online E-platform Developer', 'Software Development Lead',\n",
       "       'Postdoctoral Research Assistant – Soil Biogeochemistry',\n",
       "       'Senior Test Analyst', 'Quality Assurance Associate',\n",
       "       'Lecturer in Applied Mathematics / Statistics',\n",
       "       'Science Technician Part-Time', 'Software Development Manager',\n",
       "       'Editorial Assistant - Entry Level Med Comms', 'Quality Associate',\n",
       "       'Software Developer - GUI', 'Python Developer Java RESTful',\n",
       "       'Senior QA Test Analyst', 'Technical Specialist - Oxford',\n",
       "       'Senior CRA Homebased Oxford', 'Product Assurance Group Leader',\n",
       "       'Logistics Administrator',\n",
       "       'Software Engineer / Systems Admin - Cyber', 'Medical Editor',\n",
       "       'Hydrogeologist - Reading',\n",
       "       'Client Partner / Business Manager - Business Development',\n",
       "       'Software Engineer ( C++, Signal processing)',\n",
       "       'Lead Software Engineer', 'Graduate C++ Software Engineer',\n",
       "       'Experienced Medical Writers - Healthcare Communication Agenc...',\n",
       "       'Senior Developer - Java', 'Labaratory Technician - Biobanking',\n",
       "       'It Project Analyst', 'Senior Pre-Sales',\n",
       "       'Senior Control and Project Engineer', 'R&D Engineer',\n",
       "       'Solutions Lead Engineer', 'Electrical Technician',\n",
       "       'Lead Data Science& Analytics Consultant',\n",
       "       'Software Developer C#.NET Software Developer C#.NET',\n",
       "       'Genomics Data Scientist (Fixed Term)', 'Junior Data Scientist',\n",
       "       'Experienced Data Scientist', 'Analyst/Medical Writer',\n",
       "       'Data Scientist – Medical Device R&D',\n",
       "       'DATA SCIENTIST - CAMBRIDGESHIRE - PRICING',\n",
       "       'Research Associate (Data Visualization) (Fixed Term)',\n",
       "       'Biopharma Business Development',\n",
       "       'Machine Learning Scientist / Engineers',\n",
       "       'Physicist – Data Science', 'Data Entry',\n",
       "       'Physicist – Data Science – Technology development',\n",
       "       'Research Associate (Fixed Term)',\n",
       "       'Research Assistant (Fixed Term)',\n",
       "       'Research Associate in IMAXT Applications Data Science (Fixed...',\n",
       "       'Research Assistant/Associate (Fixed Term)',\n",
       "       'Investigator Scientist',\n",
       "       'Investigator Scientist - PNAC - Dr David Komander',\n",
       "       'Postdoctoral Fellow in Statistical and Computational Genomic...',\n",
       "       'EM Research Support Assistant - Structural Studies - Shaoxia...',\n",
       "       'Head of Information Management', 'Postdoctoral Scientist',\n",
       "       'Postdoctoral Scientist - PNAC - Dr Leo James',\n",
       "       'Biopharma Business Development Manager',\n",
       "       'Research Associate (Outcome Prediction) (Fixed Term)',\n",
       "       'Senior Data Scientist – Technology Innovation',\n",
       "       'Software Engineer (Big Data / Machine Learning)',\n",
       "       'Junior Software Engineer', 'Deputy Fellows Butler',\n",
       "       'Horticulture Technical Consultants (two posts)',\n",
       "       'Machine Learning / AI Developer',\n",
       "       'Programme Coordinator, Spectroscopy in a Suitcase',\n",
       "       'Senior Staff Scientist - DNA Pipelines', 'Senior Staff Scientist',\n",
       "       'Phage Selection Scientist',\n",
       "       'MRC Postdoctoral Fellow in Genetic Epidemiology of Metabolic...',\n",
       "       'NGS Lab Technician', 'Commercial Optimisation Lead',\n",
       "       'Research Grants Officer',\n",
       "       'Software Developer Machine Learning Python',\n",
       "       'Machine Learning Researcher (Deep Learning, Python)',\n",
       "       'IT Systems Analyst', 'Laboratory Technician - weekends',\n",
       "       'Advanced Research Assistant - Bradley Team (short term)',\n",
       "       'Research Computing Linux Systems Administrator (Fixed Term)',\n",
       "       'EM Research Support Assistant', 'Financial Analyst',\n",
       "       'Unestablished Lecturer (Fixed Term)', 'Director of Open Targets',\n",
       "       'Data Scientists: AI / Machine Learning',\n",
       "       'Javascript Developer MEAN Fullstack', 'Health Economist',\n",
       "       'Postdoctoral Fellow (Computational) - Hemberg Group',\n",
       "       'Scientific Coordinator', 'QC Scientist - Protein Analysis',\n",
       "       'Medical Writer', 'Experienced C++ Software Developer',\n",
       "       'Senior Insight Analyst', 'Junior Quant Consultant / Analyst',\n",
       "       'Communications Associate', 'Analyst/Senior Analyst',\n",
       "       'Android Developer',\n",
       "       'QPPV Pharmacovigilance Physician Cambridgeshire', 'SCRA',\n",
       "       'Cognitive Scientist',\n",
       "       'KTF Research Assistant/Associate in Sustainable Road Freight...',\n",
       "       'Android Developer - Cambridge', 'Internal Recruiter',\n",
       "       'Medical Communications Associate - 280590',\n",
       "       'JavaScript / TypeScript: Front-end development',\n",
       "       'Community Research Executive',\n",
       "       'Backend Web Developer (£25k - £35k/yr)',\n",
       "       'Senior Software Developer C++',\n",
       "       'Full-Stack Web Developer (£35k - £45k/yr)', 'Scientific Manager',\n",
       "       'Business Support Officer',\n",
       "       'Support Consultant, Cambridge, Up to £35K DOE',\n",
       "       'Implementation Consultant, Cambridge, 45K DOE',\n",
       "       'Database Administrator - SQL or Oracle (Junior - Senior)',\n",
       "       'Scientific Support Team Leader', 'Junior Actuarial Analyst',\n",
       "       'Graduate Mathematician / Physicist – NPD',\n",
       "       'Senior C# Software Engineer', 'Bright C++ Software Developer',\n",
       "       'Senior Embedded C / C++ Software Developer',\n",
       "       'Medical Communications Associate',\n",
       "       'Technical/Solution/Integration Architect AI/ML/FinTech',\n",
       "       'Wireless Software Engineer/Hardware, Cambridge',\n",
       "       'Bright Software Engineer',\n",
       "       'Embedded Software Engineer: Healthcare Technologies',\n",
       "       'Software Engineer - Trackside Tools', 'Medical Writer - 280588',\n",
       "       'Senior C++ Browser Developer', 'Associate Director',\n",
       "       'Air quality Consultant/Senior Air Quality Consultant',\n",
       "       'Principal Research Manager- Artificial Intelligence/ Machine...',\n",
       "       'Senior Analyst (SAS programmer)',\n",
       "       'Software Build and Operations Engineer',\n",
       "       'Commercial Procurement Business Partner - Operations Group -...',\n",
       "       'Software Engineer - Mobile App',\n",
       "       'HR Adviser / Human Resources Generalist',\n",
       "       'Software Developer - Back End',\n",
       "       'Software Engineer / Informatician',\n",
       "       'Senior Clinical QA Auditor Cambridgeshire',\n",
       "       'Licensed Animal Technician',\n",
       "       'Korean speaking Researcher / Analyst', 'Social Worker',\n",
       "       'Web Developer - PHP (Junior - Senior)',\n",
       "       'Electronics/Software Project Manager - Cambridge -',\n",
       "       'Research Associate (Postdoc) in Statistical Physics/Evolutio...',\n",
       "       'Embedded C/C++ Software Engineer',\n",
       "       'Senior SW Developer - Build, Operations, DevOps',\n",
       "       'Software Team Lead / Project Manager',\n",
       "       'Research Assistant/Associate in Portable High Field Magnet S...',\n",
       "       'Senior Medical Writer - 280587',\n",
       "       'Internal Recruitment Consultant',\n",
       "       'Research Assistant x 2: The connectome of olfactory memory c...',\n",
       "       'Cambridge Alliance on Medicines Safety Junior Research Fello...',\n",
       "       'Quant Consultant (Strategy / Financial Solutions)',\n",
       "       'Senior Back-end Engineer (NodeJS)',\n",
       "       'Senior Principal Compiler Engineer',\n",
       "       'Senior Regulatory Manager - CMC', 'Validation and Test Engineer',\n",
       "       'Computer Vision Research Engineer',\n",
       "       'Research Engineer - Robotic Localisation',\n",
       "       'Development Engineer - Engine Aftertreatment',\n",
       "       'Development Engineer - Electronics & Mechanical',\n",
       "       'Demo Solutions Engineer', 'Quality Engineer 1388',\n",
       "       'Full Stack Java/JEE Developer/Programmer/Engineer',\n",
       "       'Full Stack Java/JEE Developer/Consultant/Engineer',\n",
       "       'Java Developer/Engineer/Programmer', 'Support Engineer',\n",
       "       'Lead Java Developer/Engineer/Programmer upto',\n",
       "       'Data Analyst (opens in a new tab)', 'Data Science Analyst',\n",
       "       'Data Scientist, Marketing & Analytics',\n",
       "       'Principle Data Scientist', 'Graduate Data Scientist/Developer',\n",
       "       'Client Facing Data Scientist',\n",
       "       'DATA SCIENTIST, FINANCIAL MARKETS',\n",
       "       'Data Scientist/Machine Learning Graduate',\n",
       "       'Python Developer (Data Science)', 'Python Engineer',\n",
       "       'Data Analysts',\n",
       "       'Data Scientist/Data Analyst - London -- £90K-£150K, Benefits',\n",
       "       'Junior Python Developer/ Graduate', 'Data Engineer',\n",
       "       'Azure/SQL Data Analytics Consultants',\n",
       "       'Senior Data Engineer (opens in a new tab)',\n",
       "       'Data Base Administrator', 'Graduate Data Science Analyst',\n",
       "       'Software Engineer (Python & C++)',\n",
       "       'Sector Intelligence Researcher (Associate)',\n",
       "       'Software Engineer / Developer (Python)', 'Research Analyst',\n",
       "       'IoT & Big Data Engineer',\n",
       "       'Data Scientist (Personalisation, Recommender Systems, NLP)',\n",
       "       'Dietary Improvement Analyst',\n",
       "       'Senior Data Engineer (Data Science)',\n",
       "       'Data Scientist - Football Markets', 'Data Scientist - Applied',\n",
       "       'DATA SCIENTIST - DATA LAB',\n",
       "       'Atlassian Marketplace Vendor Analyst', 'Data Science Director',\n",
       "       'DATA SCIENTIST', 'DATA SCIENTIST – BITCOIN – START-UP',\n",
       "       'HIV/STI Surveillance and Prevention Scientist',\n",
       "       'Data Scientist -Python / NLP / Text Analysis / Machine Learn...',\n",
       "       'Data Scientist – Top Tier Consulting firm – London',\n",
       "       'Director of Data Science – Machine Learning / R / Python',\n",
       "       'Graduate Decision Science Analyst', 'Head Of Data',\n",
       "       'Python Data Scientist', 'Data Scientist - AI/ Data Labs',\n",
       "       'Big Data Scientist', 'Data Scientist – SPSS, R, SAS',\n",
       "       'DATA SCIENTIST NLP', 'Data Scientist- Machine Learning',\n",
       "       'Data Scientist (SQL)', 'DATA SCIENTIST | MACHINE LEARNING',\n",
       "       'DATA SCIENTIST - COMPUTER VISION', 'Data Scientist - eLearning',\n",
       "       'SQL/R/PYTHON DATA SCIENTIST', 'DATA SCIENTIST - BITCOIN',\n",
       "       'DATA SCIENTIST - BAYESIAN',\n",
       "       'Data Scientist; Python, R, SAS, Scala, Spark, Shiny',\n",
       "       'Digital Insight Analyst',\n",
       "       'CPG Data Science Leader - £120,000 + 25% Bonus + Benefits',\n",
       "       'Data Scientist - Sport', 'Data Scientist - Fitness',\n",
       "       'Data Scientist (NLP) - Education',\n",
       "       'Business Analytics Consultant (Data Warehouse, ETL/SQL)',\n",
       "       'Spectrum Technical Post',\n",
       "       'Client Facing Data Scientist - London - Disruptive AI Platfo...',\n",
       "       'DATA SCIENTIST - FINANCIAL SERVICES',\n",
       "       'DIRECTOR - BIG DATA AND DATA SCIENCE',\n",
       "       'Data Scientist – London – World Class Data Team',\n",
       "       'Head of Performance Analytics – Global Media Agency',\n",
       "       'DATA SCIENTIST - FINANCE - FRAUD & LENDING',\n",
       "       'Backend Software Engineer', 'Lecturer',\n",
       "       'Band B Data Economy Advisor',\n",
       "       'Data Scientist - Python, R, Scala, Java etc...',\n",
       "       'Big Data Engineer', 'Machine Learning & AI Engineer',\n",
       "       'Band B Data Strategy Advisor',\n",
       "       'Software Engineers to work at ML startup',\n",
       "       'Data Scientist – Tech Consulting – London',\n",
       "       'A Head of Data Economy', 'A Head of Data Strategy',\n",
       "       'Key Account Manager',\n",
       "       'Service delivery manager – research data shared service',\n",
       "       'Senior Product Analytics & Optimisation Manager',\n",
       "       'Data Scientist - Entry Level', 'Database Administrator',\n",
       "       'DATA SCIENTIST - TECH COMPANY',\n",
       "       'Data Scientist (Fintech) (Insurance Experience)',\n",
       "       'Applied Research Scientist – AI Software & Hardware',\n",
       "       'Data Analyst - University Placement Student',\n",
       "       'Data Analyst Quantitative Mathematics - Trading',\n",
       "       'SQL Data Analyst; RTB Programmatic Platform',\n",
       "       'BI REPORTING ANALYST (SQL, TABLEAU, HIGH VOLUME DATA SETS)',\n",
       "       'Python Developer- Full stack', 'Python Full Stack Developer',\n",
       "       'Research Associate in Networked Systems', 'Data Systems Manager',\n",
       "       'International Business Development Manager',\n",
       "       'French Speaking Data Scientist - London - £110k + Benefits!',\n",
       "       'ASSOCIATE PARTNER - DATA SCIENCE AND DATA ENGINEERING',\n",
       "       'Marie Curie Early Stage Researcher x2',\n",
       "       'Experienced Trader / High Frequency - London, England',\n",
       "       'Scala Software Engineer',\n",
       "       'Pharmaceutical Market Analyst / Editor',\n",
       "       'IT Systems Developer - KTP Associate',\n",
       "       'Startup Studio Head of Engineering', 'Data Engingeer',\n",
       "       'Full Time Backend Developer', 'Kantar TNS Graduate Scheme 2018',\n",
       "       'Principal Data Consultant', 'Band A Data Strategy Lead',\n",
       "       'Research Assistant - LMS 786',\n",
       "       'PHD DATA SCIENTISTS - £55,000 - £80,000 - UNICORN STARTUP',\n",
       "       'MULTIPLE DATA SCIENTISTS - £40,000 - £90,000',\n",
       "       'Graduate Machine Learning Analyst',\n",
       "       'Consultant - Technology Consulting', 'DECISION SCIENCE ANALYST',\n",
       "       'Game Server Developer',\n",
       "       'Business Intelligence (Data Hub / Warehouse) Manager',\n",
       "       'illumr : Analytical Developer',\n",
       "       'PhD Decision Scientist - C/C++/Java, Python, Fortran',\n",
       "       'Commercial Data Analyst',\n",
       "       'Python Software Developer - Investment Banking - £80k',\n",
       "       'Data Scientist / Machine Learning Scientist', 'ETF Data analyst',\n",
       "       'MRC Postdoctoral Research Scientist - LMS 804'], dtype=object)"
      ]
     },
     "execution_count": 53,
     "metadata": {},
     "output_type": "execute_result"
    }
   ],
   "source": [
    "df_master.job_title.unique()"
   ]
  },
  {
   "cell_type": "code",
   "execution_count": 24,
   "metadata": {},
   "outputs": [],
   "source": [
    "\"\"\"\n",
    "potential company keywords:\n",
    "University\n",
    "HM Revenue and Customs\n",
    "Home Office\n",
    "Ltd\n",
    "Limited\n",
    "Recruitment\n",
    "Department\n",
    "Ministry\n",
    "School\n",
    "College\n",
    "Bank\n",
    "Recruit\n",
    "Royal\n",
    "Medic\n",
    "Health\n",
    "Government\n",
    "McKinley\n",
    "National\n",
    "Education\n",
    "British Gas\n",
    "\"\"\"\n",
    "\n",
    "sectors = {\"Government\":[\"HM\", \"Office\", \"Department\", \"Ministry\", \"Government\", \"National\"],\n",
    " \"Education\":[\"School\", \"College\", \"Education\", \"University\"],\"Health\":[\"Medic\", \"Health\"],\"Royal\":[\"Royal\"],\n",
    " \"Recruitment\":[\"Recruitment\", \"McKinley\"],\"Finance\":[\"Finance\", \"Bank\"],\"Energy\":[\"Energy\", \"Gas\"]}"
   ]
  },
  {
   "cell_type": "code",
   "execution_count": 47,
   "metadata": {
    "scrolled": true
   },
   "outputs": [
    {
     "data": {
      "text/plain": [
       "array(['    University of Nottingham', '    Beauhurst', '    Harnham',\n",
       "       '    NERC', '    Cordius', '    Puma Energy LLP',\n",
       "       '    Oscar Technology', '    University of Derby',\n",
       "       '    HM Revenue and Customs', '    Müller UK & Ireland',\n",
       "       '    ADAS', '    Ideagen Plc',\n",
       "       '    Nottingham University Hospitals NHS Trust',\n",
       "       'Data Science Talent', '    RP Analytics', '    Adecco',\n",
       "       '    The Workbank Leicester', '    keaga.com',\n",
       "       '    Rockfield Specialist Recruitment',\n",
       "       '    Lexis Nexis Risk Solutions', '    Chemistree', '    PepsiCo',\n",
       "       '    Microtex Products Ltd', '    Lexis Nexis',\n",
       "       '    Salt Recruitment', '    Assystem UK', '    Jobs in Science',\n",
       "       '    Michael Page UK', '    Qila Energy',\n",
       "       '    Express Recruitment', '    People Force International',\n",
       "       '    IBM Client Innovation Centre', '    Volt Europe',\n",
       "       '    Elevation Recruitment', '    Aspire Data Recruitment',\n",
       "       '    b3 Jobs Ltd', '    Chemistree Solutions Ltd', '    Muller',\n",
       "       '    Premier Technical Recruitment', '    Envireau Water',\n",
       "       '    Carbon60', '    Vantage Consulting',\n",
       "       '    Interactive Coventry', '    ESI UK Ltd',\n",
       "       '    University of Birmingham', '    Petalite Limited',\n",
       "       '    Pertemps Network Group', '    Haran Solutions Limited',\n",
       "       '    Premier Group Recruitment', '    Home Office', '    ZF',\n",
       "       '    Sidetrade', '    O&M Performance Analyst',\n",
       "       '    Nigel Frank International Limited', '    Spring',\n",
       "       '    Us Consultancy Ltd', '    High Profile Resourcing Limited',\n",
       "       '    Pixel Toys', '    Nortech Management Ltd',\n",
       "       '    Mattinson Partnership', '    BtoB Events',\n",
       "       '    Aston EyeTech Limited', '    Midas Selection',\n",
       "       '    US Consultancy Limited', '    Informatiq Consulting',\n",
       "       '    Aston University', '    Caterpillar',\n",
       "       '    University of Worcester', '    MSXI recruitment',\n",
       "       '    Meet Recruitment', '    Langton Howarth', '    SCI',\n",
       "       '    Acumin Consulting', '    job heron', '    CBSbutler',\n",
       "       '    Education Central Multi Academy Trust', '    Venn Group',\n",
       "       '    Formel D (UK) Limited', '    Additional Resources',\n",
       "       '    Carlyle Kingswood Global', '    Seven Data Science',\n",
       "       '    Graduate Advantage', '    Evolution Recruitment Solutions',\n",
       "       '    MOREMICRO LIMITED', '    Jaguar Land Rover', '    Job Heron',\n",
       "       '    Hobson Prior', '    ASC Connections', '    Inspiring Interns',\n",
       "       '    Professional Technical Recruitment', '    Probe', '    re&m',\n",
       "       '    Omega Resource Group', '    SRG',\n",
       "       '    Tiro Associates Limited', '    BizTek Recruitment Limited',\n",
       "       '    Euro-Projects Recruitment', '    Applause IT',\n",
       "       '    Auto Trader UK', '    The University of Manchester',\n",
       "       '    Centre for Local Economic Strategies', '    Best Recruit UK',\n",
       "       '    Manchester Airports Group', '    Cathcart Associates',\n",
       "       '    Nexus Recruitment', '    Consult RPM',\n",
       "       '    Residential Landlords Association',\n",
       "       '    Dentsu Aegis Network', '    Maxwell Bond', '    Zuto',\n",
       "       '    Royal London Group', '    N Brown', '    SF Group',\n",
       "       '    GMFRS Fire Service HQ', '    Shield Safety Group',\n",
       "       '    Tcm Technology Ltd', '    EM&I (UK)', '    Together Money',\n",
       "       '    CK Group', '    The Bridge',\n",
       "       '    Museum of Science and Industry', 'Science Museum Group',\n",
       "       '    Peninsula', '    Greensill Capital (UK) Limited',\n",
       "       '    MRJ Recruitment', '    Biorelate', '    CGA',\n",
       "       '    Harrington Recruitment Ltd',\n",
       "       '    Manchester Metropolitan University', '    DWF LLP',\n",
       "       '    G&J Lee Recruitment (Gareth Lee)', '    Alex James Digital',\n",
       "       '    Post Recruitment Ltd', '    STEM Graduates',\n",
       "       '    W5 Resourcing Associates', '    Applause IT Ltd',\n",
       "       '    Health and Safety Executive',\n",
       "       '    The Green Solutions Recruitment', '    i-teachers',\n",
       "       '    Interserve', '    Manchester University NHS Foundation Trust',\n",
       "       '    GLM Recruitment Limited', '    Ellab A/S',\n",
       "       '    Capita IT Resourcing', '    Opus Recruitment Solutions',\n",
       "       '    Insight UK', 'Science Solutions Recruitment Ltd',\n",
       "       '    GREYWOOD ASSOCIATES', '    Peritus Green Associates',\n",
       "       '    ISR Recruitment', '    Dobson Welch', '    Webrecruit',\n",
       "       '    Agenda Life Sciences', '    Lucam Consultancy',\n",
       "       '    Candy Recruitment', '    Russell Taylor Group Ltd',\n",
       "       '    A for Appointments', '    Mandy Blackwell Recruitment',\n",
       "       '    SELECT SUPPORT PARTNERSHIPS LTD', '    Jumar Solutions',\n",
       "       '    Peritus Green Associates Ltd', '    Adria Solutions',\n",
       "       '    Government Statistical Service', '    Tidyquant LTD',\n",
       "       '    DataConsulting', '    University of Leeds',\n",
       "       '    Age Partnership', '    Lowell Group', '    CRE',\n",
       "       '    National Physical Laboratory', '    Covance',\n",
       "       '    University of York', '    Lowell Group Ltd',\n",
       "       '    Department for Environment, Food and Rural Affairs',\n",
       "       '    InterQuest Group', '    Datatech Analytics',\n",
       "       '    Tailored Recruitment Consultancy Ltd', '    Autoweb Design',\n",
       "       '    Sciantec Analytical Services', '    LG Select',\n",
       "       '    Interface Recruitment', '    StaffStore UK Ltd',\n",
       "       '    Trimble Solutions (UK) Ltd', '    Atkinson Page Ltd',\n",
       "       '    Northpoint Recruitment', '    Nestec York Ltd.',\n",
       "       '    Candour Solutions Limited', '    Scintillant', '    TSYS',\n",
       "       '    Resourcing Life Science', '    EM Recruiting',\n",
       "       '    Geraldine Hoy Recruitment', '    Ginger Recruitment Services',\n",
       "       '    APEX Engineering Solutions Ltd', '    Amrec Recruitment Ltd',\n",
       "       '    STFC', '    Virgin Media', '    Thames Water Utilites',\n",
       "       '    Optellum', '    Tessella', '    University of Oxford',\n",
       "       '    British Gas', '    Procter & Gamble',\n",
       "       '    Evox Therapeutics Ltd', '    Pranava Technologies UK Ltd',\n",
       "       '    Independent Project Analysis Ltd', '    Surrey Police',\n",
       "       '    Nuffield Department of Medicine', '    Reqiva',\n",
       "       '    Haybrook', '    SQ Computer Personnel Limited', '    ECMWF',\n",
       "       '    Morgan Ryder', '    Noumed Life Sciences', '    Experis',\n",
       "       '    Nuvola Resourcing', '    Alere Toxicology Plc',\n",
       "       '    Grafton Haymes', '    Lonza Group', '    MarkJames Search',\n",
       "       '    University of Surrey', '    Soma Bioscience Limited',\n",
       "       '    Kinetica (UK) Ltd', '    ReThink Recruitment',\n",
       "       '    Oxford University Innovation Ltd',\n",
       "       '    Perspectum Diagnostics', '    Enterprise Recruitment Limited',\n",
       "       '    Oxford Brookes University',\n",
       "       '    The National Foundation for Educational Research', '    Bink',\n",
       "       '    siHealth Ltd', '    Pass Software Limited',\n",
       "       '    IP Global Services Ltd', '    Carrot Pharma Recruitment',\n",
       "       '    Ashdown Group', '    Client Server',\n",
       "       '    Diamond Light Source', '    Health Education England',\n",
       "       '    The Sixth Form College Farnborough', '    MSC Cruises',\n",
       "       '    CABI', '    Wade Macdonald', '    Codex', '    Fuel3D',\n",
       "       '    Skills Alliance', '    Serco', '    FINTEC recruit',\n",
       "       '    Taylor Green Recruitment', '    Stonewater Ltd',\n",
       "       '    Xact Placements Limited', '    Aurora Energy Research Ltd',\n",
       "       '    Stellar Select', '    Codex Recruitment Limited',\n",
       "       '    Bluetree Recruits', '    CCFE', '    IntaPeople',\n",
       "       '    ID Search & Selection', '    Vertical Ambition',\n",
       "       '    Too Many People', '    Animal and Plant Health Agency',\n",
       "       '    Association for Project Management',\n",
       "       '    We Work Recruitment', '    UKAEA',\n",
       "       '    Next Phase Recruitment Limited',\n",
       "       '    Nicholson Glover Consulting', '    Perpetual Partnerships',\n",
       "       '    Memiah Limited', '    Arthur Edward',\n",
       "       '    Richard Wheeler Associates', '    Spectrum IT',\n",
       "       '    Wade Macdonald Associates.', '    English Institute of Sport',\n",
       "       '    NetApp', '    Berry Recruitment', '    Java Source',\n",
       "       '    Graduate Recruitment Bureau', '    Guided Solutions',\n",
       "       '    Delta Consultants', '    Bizagi',\n",
       "       '    Heart Healthcare Recruitment', '    People First Recruitment',\n",
       "       '    ID Search and Selection Ltd',\n",
       "       '    Carmichael Cane Associates Ltd', '    Woolf Group',\n",
       "       '    Uxbridge Employment Agency',\n",
       "       '    Future Talent Recruitment Ltd',\n",
       "       '    Bond Recruitment Services Ltd',\n",
       "       '    Vector Recruitment Limited',\n",
       "       '    HEOR - Health Economics and Outcomes Research',\n",
       "       '    Cardiff University', '    Motonovo Finance',\n",
       "       '    Just Life Sciences', '    Ensono Limited', '    Deerfoot',\n",
       "       '    University of Bristol', '    Accelero Digital',\n",
       "       '    Office for National Statistics', '    Mobius Resourcing',\n",
       "       '    SGS', '    SRK Consulting UK Ltd', '    Go Partnership.',\n",
       "       '    St David Recruitment Services', '    Cardiff DT',\n",
       "       '    Geo-Environmental Recruitment', '    Williams Lea Tag',\n",
       "       '    TribePost', '    MECS Communications',\n",
       "       '    Petrie Recruitment',\n",
       "       '    Energon Global Ltd / Energon People', '    Conrad Consulting',\n",
       "       '    Big Picture', '    SoulTek', '    University of Glasgow',\n",
       "       '    Adopt an Intern', '    Hydrogen Group',\n",
       "       '    University of Strathclyde', '    Airwave Solutions, Motorola',\n",
       "       '    University of Stirling', '    Antibody Analytics Ltd',\n",
       "       '    Metix Limited', '    SThree',\n",
       "       '    Amici Procurement Solutions', '    Allagents.co.uk',\n",
       "       '    Rise Technical Recruitment',\n",
       "       '    Enigma People Solutions Ltd', '    Conrad Scott',\n",
       "       '    Gillespie People Solutions', '    Charles River Laboratories',\n",
       "       '    Heriot Watt University', '    Scottish Agricultural College',\n",
       "       '    Purview Services', '    ION RECRUITMENT LTD.',\n",
       "       '    Faraday Grid', '    Morgan McKinley',\n",
       "       '    Edinburgh Napier University', '    Queen Margaret University',\n",
       "       '    Lloyds Register', '    The Scottish Government',\n",
       "       '    Saxon Recruitment Solutions', '    Working Smart Limited',\n",
       "       '    Scottish Government', '    Head Resourcing Limited',\n",
       "       '    Search Consultancy', '    ECM Selection',\n",
       "       '    Newcastle University', '    Amsource Technology',\n",
       "       '    Synexus', '    NRG', '    The Wasdell Group',\n",
       "       '    Peacocks Medical Group', '    Netrologix Ltd',\n",
       "       '    North East Local Enterprise Partnership', '    Saggezza',\n",
       "       '    MTrec', '    Voicentric Ltd Durham', '    Epic Social',\n",
       "       '    CY Partner', '    Bright Purple Resourcing',\n",
       "       '    Durham University', '    Bluebolt Recruitment',\n",
       "       '    The Academy of St Francis of Assisi',\n",
       "       '    University of Liverpool', '    Liverpool In Work',\n",
       "       '    Liverpool John Moores University', '    Churchill Frank',\n",
       "       '    Liverpool School of Tropical Medicine', '    Chester Zoo',\n",
       "       '    Rentokil Initial', '    Asset Resourcing',\n",
       "       '    ShortList Recruitment Limited', '    LiCa Scientific Ltd',\n",
       "       '    Tangerine Holdings', '    Shortlist Recruitment',\n",
       "       '    Charles Francis Cooper Recruitment', '    University of Bath',\n",
       "       '    RAC Motoring Services', '    Trapeze Group Limited',\n",
       "       '    Public Health England', '    Happy City',\n",
       "       '    Polecat Intelligence Ltd', '    MW Appointments',\n",
       "       '    DNA Worldwide Group', '    FDM Group', '    Rolls-Royce',\n",
       "       '    Jisc', '    Three People', '    Premium Resourcing',\n",
       "       '    Heat Recruitment', '    Allen & York', '    Ecodesk',\n",
       "       '    Electus Recruitment Solutions Ltd', '    ADLIB',\n",
       "       '    Moxie and Mettle Limited', '    Forestry Commission',\n",
       "       '    XIST4 IT LIMITED', '    Energi People UK',\n",
       "       '    White Horse Employment', '    MSI Group',\n",
       "       '    Talent International', '    Wessex Water Services Limited',\n",
       "       '    Baxter Personnel', '    Appoint Recruitment', '    ISL UK',\n",
       "       '    Corinium Language Associates Ltd', '    Darwin Recruitment',\n",
       "       '    Asset Resourcing Ltd', '    University of Sheffield',\n",
       "       '    FareShare', '    Benchmark Recruit',\n",
       "       '    Marmion Recruitment', '    Elevation - Accountancy / Finance',\n",
       "       '    Human', '    Pharmacy2U Ltd', '    NP Group',\n",
       "       '    Understanding Recruitment', '    Amadeus Software Ltd',\n",
       "       '    Oxford Genetics', '    Earthwatch Institute',\n",
       "       '    University of Reading', '    Next Phase',\n",
       "       '    Beachborough School', '    Cast UK Limited',\n",
       "       '    Outsource UK', '    Mango Digital Recruitment Limited',\n",
       "       '    Careerwise UK Limited', '    Element Search LLP',\n",
       "       '    Tiab Limited', '    Concept Information Technology',\n",
       "       '    Metrica Recruitment', '    Cambridge Cancer Genomics',\n",
       "       '    University of Cambridge', '    Costello and Reyes',\n",
       "       '    Costello Medical Consulting', '    Repositive',\n",
       "       '    Polkadotfrog', '    Exact Sourcing ltd', '    Cordic Ltd',\n",
       "       '    MRC Laboratory of Molecular Biology',\n",
       "       '    Medical Research Council',\n",
       "       '    Wellcome Trust Sanger Institute',\n",
       "       '    BirdLife International', '    Gonville and Caius College',\n",
       "       '    Royal Society of Chemistry',\n",
       "       '    Consult Search & Selection Ltd', '    Novogene Corporation',\n",
       "       '    Origami Energy', \"    Alzheimer's Research UK\",\n",
       "       '    North Hertfordshire Homes', '    Concept Life Sciences',\n",
       "       '    Aveva Group Plc', '    Amazing Prospects Ltd', '    SoCode',\n",
       "       '    Cynosure Search Limited', '    TechNET IT Recruitment Ltd',\n",
       "       '    Zest Scientific', '    Ellis Mason',\n",
       "       '    Linkpoint Resources Limited', '    Busy Bee Recruitment',\n",
       "       '    FutureYou by Cambridge Nutraceuticals', '    Walter Samuel',\n",
       "       '    Zest Business Group', '    Serco Group', '    Monarch IT',\n",
       "       '    Glasshouse Recruitment', '    Sodexo', '    OSR Recruitment',\n",
       "       '    LinkPoint Resources Ltd', '    The One Group',\n",
       "       '    Jowicom Limited', '    Selective Resourcing Ltd',\n",
       "       '    Cambridge Assessment',\n",
       "       '    Language Matters Recruitment Consultants Ltd.',\n",
       "       '    Nouvita Ltd', '    Ashley Kate HR',\n",
       "       '    Netronome Systems LTD', '    Medisafe UK Limited',\n",
       "       '    Sumner & Scott', '    Recruitment Holdings Ltd',\n",
       "       '    Redline Group', '    Cortex IT Recruitment',\n",
       "       '    Acorn Recruitment Limited', '    Linux Recruit',\n",
       "       '    Wellcome Trust', '    Natural History Museum',\n",
       "       '    Logix Resourcing', '    MADE.com', '    iGenie Consulting',\n",
       "       '    Flexciton', '    SparkBeyond', '    Quantexa', '    Mudano',\n",
       "       '    ING', '    University of London', '    Decision Lab Ltd',\n",
       "       '    ONZO Ltd', '    Secret Talent', '    Talent Point Ltd',\n",
       "       '    Aqovia Uk Ltd', '    Auxillium', '    Maclean Moore Ltd',\n",
       "       '    The Royal College of Anaesthetists', '    PLAYTECH',\n",
       "       '    Chi Square Analytics', '    Adatis',\n",
       "       '    Software Personnel International Ltd', '    DNAe',\n",
       "       '    Financial Conduct Authority', '    Yobota',\n",
       "       '    Anthony Nolan', '    DataTech Search and Selection',\n",
       "       '    Foresight Factory International', '    OpenCapacity',\n",
       "       '    Xcede Digital', '    Consortia', '    Lloyds Banking Group',\n",
       "       '    Bettor Believe', '    Major Players', '    Adaptavist',\n",
       "       '    Talentpoint Jobs', '    Oho Group', '    Alexander Ash Ltd',\n",
       "       '    Pentasia', '    Nicoll Curtin Limited', '    Cogs Agency',\n",
       "       '    Venturi', '    Wiser Recruitment', '    kdr Recruitment',\n",
       "       '    Elizabeth Norman International', '    sophus3',\n",
       "       '    Lawrence Harvey', '    iXceed Solutions',\n",
       "       '    GatenbySanderson', '    Ministry of Defence',\n",
       "       '    Silverdrum', '    Imperial College London',\n",
       "       '    Lendingblock',\n",
       "       '    Department for Digital, Culture, Media and Sport',\n",
       "       '    Links Resourcing Limited', '    MediaGamma',\n",
       "       '    Digitech Resourcing Ltd', '    Echobox', '    Just Eat',\n",
       "       '    Aviva', '    Sphere Digital Recruitment',\n",
       "       '    University College London', '    Burns Sheehan',\n",
       "       '    Explore Group', '    Digital Fineprint',\n",
       "       '    Next Step Systems', '    Freelancer.com', '    Visiongain',\n",
       "       '    London South Bank University', '    Founders Factory',\n",
       "       '    SymbaSync',\n",
       "       '    London School of Hygiene & Tropical Medicine',\n",
       "       '    Kantar TNS', '    Click Digital', '    Xcede',\n",
       "       '    DMW Group', '    Supersolid', '    The Resourcing Hub',\n",
       "       '    Software Personnel International Limited',\n",
       "       '    McGregor Boyall', '    C4Commerce London'], dtype=object)"
      ]
     },
     "execution_count": 47,
     "metadata": {},
     "output_type": "execute_result"
    }
   ],
   "source": [
    "df_master.company.unique()"
   ]
  },
  {
   "cell_type": "code",
   "execution_count": 25,
   "metadata": {},
   "outputs": [],
   "source": [
    "categories = pd.DataFrame(columns=['Government','Education','Health','Royal','Recruitment','Finance','Energy'])"
   ]
  },
  {
   "cell_type": "code",
   "execution_count": 26,
   "metadata": {},
   "outputs": [],
   "source": [
    "job_words = pd.DataFrame(columns=['Director','Analyst','Scientist','Engineer','Business','Consultant','Senior',\n",
    "                                  'Junior','Manager','Officer','Developer','Head of','Programmer','Executive',\n",
    "                                  'Java','Python','Lead','Intelligence','Machine Learning','Javascript','Developer',\n",
    "                                  'Graduate','Research'])"
   ]
  },
  {
   "cell_type": "code",
   "execution_count": 27,
   "metadata": {},
   "outputs": [],
   "source": [
    "df_master = pd.concat([df_master,categories,job_words],axis=1)"
   ]
  },
  {
   "cell_type": "code",
   "execution_count": 28,
   "metadata": {},
   "outputs": [],
   "source": [
    "for key,value in sectors.items():\n",
    "    df_master[key] = df_master.company.map(lambda x: 1 if len(set(x.split()).intersection(set(value)))>0 else 0)"
   ]
  },
  {
   "cell_type": "code",
   "execution_count": 29,
   "metadata": {},
   "outputs": [],
   "source": [
    "for job in job_words:\n",
    "    df_master[job] = df_master['job_title'].map(lambda x: 1 if job in x else 0)"
   ]
  },
  {
   "cell_type": "markdown",
   "metadata": {
    "focus": false,
    "id": "c7631f51-07f2-4c79-a093-3e9bc7849a48"
   },
   "source": [
    "#### I want to predict a binary variable - whether the salary was low or high. Computing the median salary and creating a new binary variable that is true when the salary is high (above the median)."
   ]
  },
  {
   "cell_type": "code",
   "execution_count": 30,
   "metadata": {},
   "outputs": [],
   "source": [
    "df_master['salary_band'] = df_master.salary.map(lambda x: \"low\" if x <= df_master.salary.quantile(0.5) else \"high\")"
   ]
  },
  {
   "cell_type": "code",
   "execution_count": 31,
   "metadata": {},
   "outputs": [
    {
     "data": {
      "text/html": [
       "<div>\n",
       "<style scoped>\n",
       "    .dataframe tbody tr th:only-of-type {\n",
       "        vertical-align: middle;\n",
       "    }\n",
       "\n",
       "    .dataframe tbody tr th {\n",
       "        vertical-align: top;\n",
       "    }\n",
       "\n",
       "    .dataframe thead th {\n",
       "        text-align: right;\n",
       "    }\n",
       "</style>\n",
       "<table border=\"1\" class=\"dataframe\">\n",
       "  <thead>\n",
       "    <tr style=\"text-align: right;\">\n",
       "      <th></th>\n",
       "      <th>company</th>\n",
       "      <th>job_title</th>\n",
       "      <th>location</th>\n",
       "      <th>salary</th>\n",
       "      <th>Government</th>\n",
       "      <th>Education</th>\n",
       "      <th>Health</th>\n",
       "      <th>Royal</th>\n",
       "      <th>Recruitment</th>\n",
       "      <th>Finance</th>\n",
       "      <th>Energy</th>\n",
       "      <th>Director</th>\n",
       "      <th>Analyst</th>\n",
       "      <th>Scientist</th>\n",
       "      <th>Engineer</th>\n",
       "      <th>Business</th>\n",
       "      <th>Consultant</th>\n",
       "      <th>Senior</th>\n",
       "      <th>Junior</th>\n",
       "      <th>Manager</th>\n",
       "      <th>Officer</th>\n",
       "      <th>Developer</th>\n",
       "      <th>Head of</th>\n",
       "      <th>Programmer</th>\n",
       "      <th>Executive</th>\n",
       "      <th>Java</th>\n",
       "      <th>Python</th>\n",
       "      <th>Lead</th>\n",
       "      <th>Intelligence</th>\n",
       "      <th>Machine Learning</th>\n",
       "      <th>Javascript</th>\n",
       "      <th>Developer</th>\n",
       "      <th>Graduate</th>\n",
       "      <th>Research</th>\n",
       "      <th>salary_band</th>\n",
       "    </tr>\n",
       "  </thead>\n",
       "  <tbody>\n",
       "    <tr>\n",
       "      <th>5</th>\n",
       "      <td>University of Nottingham</td>\n",
       "      <td>Smart Data Scientist - KTP Associate (Fixed-term)</td>\n",
       "      <td>Nottingham</td>\n",
       "      <td>26000.0</td>\n",
       "      <td>0</td>\n",
       "      <td>1</td>\n",
       "      <td>0</td>\n",
       "      <td>0</td>\n",
       "      <td>0</td>\n",
       "      <td>0</td>\n",
       "      <td>0</td>\n",
       "      <td>0</td>\n",
       "      <td>0</td>\n",
       "      <td>1</td>\n",
       "      <td>0</td>\n",
       "      <td>0</td>\n",
       "      <td>0</td>\n",
       "      <td>0</td>\n",
       "      <td>0</td>\n",
       "      <td>0</td>\n",
       "      <td>0</td>\n",
       "      <td>0</td>\n",
       "      <td>0</td>\n",
       "      <td>0</td>\n",
       "      <td>0</td>\n",
       "      <td>0</td>\n",
       "      <td>0</td>\n",
       "      <td>0</td>\n",
       "      <td>0</td>\n",
       "      <td>0</td>\n",
       "      <td>0</td>\n",
       "      <td>0</td>\n",
       "      <td>0</td>\n",
       "      <td>0</td>\n",
       "      <td>low</td>\n",
       "    </tr>\n",
       "    <tr>\n",
       "      <th>6</th>\n",
       "      <td>Beauhurst</td>\n",
       "      <td>Data Curator</td>\n",
       "      <td>Nottingham</td>\n",
       "      <td>16000.0</td>\n",
       "      <td>0</td>\n",
       "      <td>0</td>\n",
       "      <td>0</td>\n",
       "      <td>0</td>\n",
       "      <td>0</td>\n",
       "      <td>0</td>\n",
       "      <td>0</td>\n",
       "      <td>0</td>\n",
       "      <td>0</td>\n",
       "      <td>0</td>\n",
       "      <td>0</td>\n",
       "      <td>0</td>\n",
       "      <td>0</td>\n",
       "      <td>0</td>\n",
       "      <td>0</td>\n",
       "      <td>0</td>\n",
       "      <td>0</td>\n",
       "      <td>0</td>\n",
       "      <td>0</td>\n",
       "      <td>0</td>\n",
       "      <td>0</td>\n",
       "      <td>0</td>\n",
       "      <td>0</td>\n",
       "      <td>0</td>\n",
       "      <td>0</td>\n",
       "      <td>0</td>\n",
       "      <td>0</td>\n",
       "      <td>0</td>\n",
       "      <td>0</td>\n",
       "      <td>0</td>\n",
       "      <td>low</td>\n",
       "    </tr>\n",
       "    <tr>\n",
       "      <th>10</th>\n",
       "      <td>Harnham</td>\n",
       "      <td>JUNIOR DATA SCIENTIST</td>\n",
       "      <td>Nottingham</td>\n",
       "      <td>32000.0</td>\n",
       "      <td>0</td>\n",
       "      <td>0</td>\n",
       "      <td>0</td>\n",
       "      <td>0</td>\n",
       "      <td>0</td>\n",
       "      <td>0</td>\n",
       "      <td>0</td>\n",
       "      <td>0</td>\n",
       "      <td>0</td>\n",
       "      <td>0</td>\n",
       "      <td>0</td>\n",
       "      <td>0</td>\n",
       "      <td>0</td>\n",
       "      <td>0</td>\n",
       "      <td>0</td>\n",
       "      <td>0</td>\n",
       "      <td>0</td>\n",
       "      <td>0</td>\n",
       "      <td>0</td>\n",
       "      <td>0</td>\n",
       "      <td>0</td>\n",
       "      <td>0</td>\n",
       "      <td>0</td>\n",
       "      <td>0</td>\n",
       "      <td>0</td>\n",
       "      <td>0</td>\n",
       "      <td>0</td>\n",
       "      <td>0</td>\n",
       "      <td>0</td>\n",
       "      <td>0</td>\n",
       "      <td>high</td>\n",
       "    </tr>\n",
       "    <tr>\n",
       "      <th>14</th>\n",
       "      <td>NERC</td>\n",
       "      <td>Environmental Statistician</td>\n",
       "      <td>Nottingham</td>\n",
       "      <td>33227.0</td>\n",
       "      <td>0</td>\n",
       "      <td>0</td>\n",
       "      <td>0</td>\n",
       "      <td>0</td>\n",
       "      <td>0</td>\n",
       "      <td>0</td>\n",
       "      <td>0</td>\n",
       "      <td>0</td>\n",
       "      <td>0</td>\n",
       "      <td>0</td>\n",
       "      <td>0</td>\n",
       "      <td>0</td>\n",
       "      <td>0</td>\n",
       "      <td>0</td>\n",
       "      <td>0</td>\n",
       "      <td>0</td>\n",
       "      <td>0</td>\n",
       "      <td>0</td>\n",
       "      <td>0</td>\n",
       "      <td>0</td>\n",
       "      <td>0</td>\n",
       "      <td>0</td>\n",
       "      <td>0</td>\n",
       "      <td>0</td>\n",
       "      <td>0</td>\n",
       "      <td>0</td>\n",
       "      <td>0</td>\n",
       "      <td>0</td>\n",
       "      <td>0</td>\n",
       "      <td>0</td>\n",
       "      <td>high</td>\n",
       "    </tr>\n",
       "    <tr>\n",
       "      <th>15</th>\n",
       "      <td>Beauhurst</td>\n",
       "      <td>Data Curator</td>\n",
       "      <td>Nottingham</td>\n",
       "      <td>16000.0</td>\n",
       "      <td>0</td>\n",
       "      <td>0</td>\n",
       "      <td>0</td>\n",
       "      <td>0</td>\n",
       "      <td>0</td>\n",
       "      <td>0</td>\n",
       "      <td>0</td>\n",
       "      <td>0</td>\n",
       "      <td>0</td>\n",
       "      <td>0</td>\n",
       "      <td>0</td>\n",
       "      <td>0</td>\n",
       "      <td>0</td>\n",
       "      <td>0</td>\n",
       "      <td>0</td>\n",
       "      <td>0</td>\n",
       "      <td>0</td>\n",
       "      <td>0</td>\n",
       "      <td>0</td>\n",
       "      <td>0</td>\n",
       "      <td>0</td>\n",
       "      <td>0</td>\n",
       "      <td>0</td>\n",
       "      <td>0</td>\n",
       "      <td>0</td>\n",
       "      <td>0</td>\n",
       "      <td>0</td>\n",
       "      <td>0</td>\n",
       "      <td>0</td>\n",
       "      <td>0</td>\n",
       "      <td>low</td>\n",
       "    </tr>\n",
       "    <tr>\n",
       "      <th>16</th>\n",
       "      <td>Beauhurst</td>\n",
       "      <td>Data Curator</td>\n",
       "      <td>Nottingham</td>\n",
       "      <td>16000.0</td>\n",
       "      <td>0</td>\n",
       "      <td>0</td>\n",
       "      <td>0</td>\n",
       "      <td>0</td>\n",
       "      <td>0</td>\n",
       "      <td>0</td>\n",
       "      <td>0</td>\n",
       "      <td>0</td>\n",
       "      <td>0</td>\n",
       "      <td>0</td>\n",
       "      <td>0</td>\n",
       "      <td>0</td>\n",
       "      <td>0</td>\n",
       "      <td>0</td>\n",
       "      <td>0</td>\n",
       "      <td>0</td>\n",
       "      <td>0</td>\n",
       "      <td>0</td>\n",
       "      <td>0</td>\n",
       "      <td>0</td>\n",
       "      <td>0</td>\n",
       "      <td>0</td>\n",
       "      <td>0</td>\n",
       "      <td>0</td>\n",
       "      <td>0</td>\n",
       "      <td>0</td>\n",
       "      <td>0</td>\n",
       "      <td>0</td>\n",
       "      <td>0</td>\n",
       "      <td>0</td>\n",
       "      <td>low</td>\n",
       "    </tr>\n",
       "    <tr>\n",
       "      <th>18</th>\n",
       "      <td>NERC</td>\n",
       "      <td>Environmental Statistician</td>\n",
       "      <td>Nottingham</td>\n",
       "      <td>33227.0</td>\n",
       "      <td>0</td>\n",
       "      <td>0</td>\n",
       "      <td>0</td>\n",
       "      <td>0</td>\n",
       "      <td>0</td>\n",
       "      <td>0</td>\n",
       "      <td>0</td>\n",
       "      <td>0</td>\n",
       "      <td>0</td>\n",
       "      <td>0</td>\n",
       "      <td>0</td>\n",
       "      <td>0</td>\n",
       "      <td>0</td>\n",
       "      <td>0</td>\n",
       "      <td>0</td>\n",
       "      <td>0</td>\n",
       "      <td>0</td>\n",
       "      <td>0</td>\n",
       "      <td>0</td>\n",
       "      <td>0</td>\n",
       "      <td>0</td>\n",
       "      <td>0</td>\n",
       "      <td>0</td>\n",
       "      <td>0</td>\n",
       "      <td>0</td>\n",
       "      <td>0</td>\n",
       "      <td>0</td>\n",
       "      <td>0</td>\n",
       "      <td>0</td>\n",
       "      <td>0</td>\n",
       "      <td>high</td>\n",
       "    </tr>\n",
       "    <tr>\n",
       "      <th>20</th>\n",
       "      <td>University of Nottingham</td>\n",
       "      <td>Research Fellow (fixed term)</td>\n",
       "      <td>Nottingham</td>\n",
       "      <td>34316.0</td>\n",
       "      <td>0</td>\n",
       "      <td>1</td>\n",
       "      <td>0</td>\n",
       "      <td>0</td>\n",
       "      <td>0</td>\n",
       "      <td>0</td>\n",
       "      <td>0</td>\n",
       "      <td>0</td>\n",
       "      <td>0</td>\n",
       "      <td>0</td>\n",
       "      <td>0</td>\n",
       "      <td>0</td>\n",
       "      <td>0</td>\n",
       "      <td>0</td>\n",
       "      <td>0</td>\n",
       "      <td>0</td>\n",
       "      <td>0</td>\n",
       "      <td>0</td>\n",
       "      <td>0</td>\n",
       "      <td>0</td>\n",
       "      <td>0</td>\n",
       "      <td>0</td>\n",
       "      <td>0</td>\n",
       "      <td>0</td>\n",
       "      <td>0</td>\n",
       "      <td>0</td>\n",
       "      <td>0</td>\n",
       "      <td>0</td>\n",
       "      <td>0</td>\n",
       "      <td>1</td>\n",
       "      <td>high</td>\n",
       "    </tr>\n",
       "    <tr>\n",
       "      <th>21</th>\n",
       "      <td>University of Nottingham</td>\n",
       "      <td>Research Associate/Fellow (fixed term)</td>\n",
       "      <td>Nottingham</td>\n",
       "      <td>32664.0</td>\n",
       "      <td>0</td>\n",
       "      <td>1</td>\n",
       "      <td>0</td>\n",
       "      <td>0</td>\n",
       "      <td>0</td>\n",
       "      <td>0</td>\n",
       "      <td>0</td>\n",
       "      <td>0</td>\n",
       "      <td>0</td>\n",
       "      <td>0</td>\n",
       "      <td>0</td>\n",
       "      <td>0</td>\n",
       "      <td>0</td>\n",
       "      <td>0</td>\n",
       "      <td>0</td>\n",
       "      <td>0</td>\n",
       "      <td>0</td>\n",
       "      <td>0</td>\n",
       "      <td>0</td>\n",
       "      <td>0</td>\n",
       "      <td>0</td>\n",
       "      <td>0</td>\n",
       "      <td>0</td>\n",
       "      <td>0</td>\n",
       "      <td>0</td>\n",
       "      <td>0</td>\n",
       "      <td>0</td>\n",
       "      <td>0</td>\n",
       "      <td>0</td>\n",
       "      <td>1</td>\n",
       "      <td>high</td>\n",
       "    </tr>\n",
       "    <tr>\n",
       "      <th>25</th>\n",
       "      <td>Cordius</td>\n",
       "      <td>Data Scientist</td>\n",
       "      <td>Nottingham</td>\n",
       "      <td>30000.0</td>\n",
       "      <td>0</td>\n",
       "      <td>0</td>\n",
       "      <td>0</td>\n",
       "      <td>0</td>\n",
       "      <td>0</td>\n",
       "      <td>0</td>\n",
       "      <td>0</td>\n",
       "      <td>0</td>\n",
       "      <td>0</td>\n",
       "      <td>1</td>\n",
       "      <td>0</td>\n",
       "      <td>0</td>\n",
       "      <td>0</td>\n",
       "      <td>0</td>\n",
       "      <td>0</td>\n",
       "      <td>0</td>\n",
       "      <td>0</td>\n",
       "      <td>0</td>\n",
       "      <td>0</td>\n",
       "      <td>0</td>\n",
       "      <td>0</td>\n",
       "      <td>0</td>\n",
       "      <td>0</td>\n",
       "      <td>0</td>\n",
       "      <td>0</td>\n",
       "      <td>0</td>\n",
       "      <td>0</td>\n",
       "      <td>0</td>\n",
       "      <td>0</td>\n",
       "      <td>0</td>\n",
       "      <td>high</td>\n",
       "    </tr>\n",
       "  </tbody>\n",
       "</table>\n",
       "</div>"
      ],
      "text/plain": [
       "                         company  \\\n",
       "5       University of Nottingham   \n",
       "6                      Beauhurst   \n",
       "10                       Harnham   \n",
       "14                          NERC   \n",
       "15                     Beauhurst   \n",
       "16                     Beauhurst   \n",
       "18                          NERC   \n",
       "20      University of Nottingham   \n",
       "21      University of Nottingham   \n",
       "25                       Cordius   \n",
       "\n",
       "                                            job_title    location   salary  \\\n",
       "5   Smart Data Scientist - KTP Associate (Fixed-term)  Nottingham  26000.0   \n",
       "6                                        Data Curator  Nottingham  16000.0   \n",
       "10                              JUNIOR DATA SCIENTIST  Nottingham  32000.0   \n",
       "14                         Environmental Statistician  Nottingham  33227.0   \n",
       "15                                       Data Curator  Nottingham  16000.0   \n",
       "16                                       Data Curator  Nottingham  16000.0   \n",
       "18                         Environmental Statistician  Nottingham  33227.0   \n",
       "20                       Research Fellow (fixed term)  Nottingham  34316.0   \n",
       "21             Research Associate/Fellow (fixed term)  Nottingham  32664.0   \n",
       "25                                     Data Scientist  Nottingham  30000.0   \n",
       "\n",
       "    Government  Education  Health  Royal  Recruitment  Finance  Energy  \\\n",
       "5            0          1       0      0            0        0       0   \n",
       "6            0          0       0      0            0        0       0   \n",
       "10           0          0       0      0            0        0       0   \n",
       "14           0          0       0      0            0        0       0   \n",
       "15           0          0       0      0            0        0       0   \n",
       "16           0          0       0      0            0        0       0   \n",
       "18           0          0       0      0            0        0       0   \n",
       "20           0          1       0      0            0        0       0   \n",
       "21           0          1       0      0            0        0       0   \n",
       "25           0          0       0      0            0        0       0   \n",
       "\n",
       "    Director  Analyst  Scientist  Engineer  Business  Consultant  Senior  \\\n",
       "5          0        0          1         0         0           0       0   \n",
       "6          0        0          0         0         0           0       0   \n",
       "10         0        0          0         0         0           0       0   \n",
       "14         0        0          0         0         0           0       0   \n",
       "15         0        0          0         0         0           0       0   \n",
       "16         0        0          0         0         0           0       0   \n",
       "18         0        0          0         0         0           0       0   \n",
       "20         0        0          0         0         0           0       0   \n",
       "21         0        0          0         0         0           0       0   \n",
       "25         0        0          1         0         0           0       0   \n",
       "\n",
       "    Junior  Manager  Officer  Developer  Head of  Programmer  Executive  Java  \\\n",
       "5        0        0        0          0        0           0          0     0   \n",
       "6        0        0        0          0        0           0          0     0   \n",
       "10       0        0        0          0        0           0          0     0   \n",
       "14       0        0        0          0        0           0          0     0   \n",
       "15       0        0        0          0        0           0          0     0   \n",
       "16       0        0        0          0        0           0          0     0   \n",
       "18       0        0        0          0        0           0          0     0   \n",
       "20       0        0        0          0        0           0          0     0   \n",
       "21       0        0        0          0        0           0          0     0   \n",
       "25       0        0        0          0        0           0          0     0   \n",
       "\n",
       "    Python  Lead  Intelligence  Machine Learning  Javascript  Developer  \\\n",
       "5        0     0             0                 0           0          0   \n",
       "6        0     0             0                 0           0          0   \n",
       "10       0     0             0                 0           0          0   \n",
       "14       0     0             0                 0           0          0   \n",
       "15       0     0             0                 0           0          0   \n",
       "16       0     0             0                 0           0          0   \n",
       "18       0     0             0                 0           0          0   \n",
       "20       0     0             0                 0           0          0   \n",
       "21       0     0             0                 0           0          0   \n",
       "25       0     0             0                 0           0          0   \n",
       "\n",
       "    Graduate  Research salary_band  \n",
       "5          0         0         low  \n",
       "6          0         0         low  \n",
       "10         0         0        high  \n",
       "14         0         0        high  \n",
       "15         0         0         low  \n",
       "16         0         0         low  \n",
       "18         0         0        high  \n",
       "20         0         1        high  \n",
       "21         0         1        high  \n",
       "25         0         0        high  "
      ]
     },
     "execution_count": 31,
     "metadata": {},
     "output_type": "execute_result"
    }
   ],
   "source": [
    "df_master.head(10)"
   ]
  },
  {
   "cell_type": "code",
   "execution_count": 33,
   "metadata": {},
   "outputs": [],
   "source": [
    "df_master.drop_duplicates(inplace=True)"
   ]
  },
  {
   "cell_type": "code",
   "execution_count": 34,
   "metadata": {
    "scrolled": true
   },
   "outputs": [
    {
     "data": {
      "text/plain": [
       "(1178, 35)"
      ]
     },
     "execution_count": 34,
     "metadata": {},
     "output_type": "execute_result"
    }
   ],
   "source": [
    "df_master.shape"
   ]
  },
  {
   "cell_type": "markdown",
   "metadata": {
    "focus": false,
    "id": "a7afb2c0-d41e-4779-8216-91cd8dd4473f"
   },
   "source": [
    "#### Thought experiment: What is the baseline accuracy for this model?"
   ]
  },
  {
   "cell_type": "code",
   "execution_count": 43,
   "metadata": {
    "focus": false,
    "id": "87a17d3d-b7f4-4747-9f75-f9af1d18a174"
   },
   "outputs": [
    {
     "name": "stdout",
     "output_type": "stream",
     "text": [
      "Baseline Accuracy: 0.5009784735812133\n"
     ]
    }
   ],
   "source": [
    "## YOUR CODE HERE\n",
    "print(\"Baseline Accuracy:\",final_df.salary_band.value_counts().max()/sum(final_df.salary_band.value_counts()))"
   ]
  },
  {
   "cell_type": "markdown",
   "metadata": {},
   "source": [
    "## Preliminary EDA"
   ]
  },
  {
   "cell_type": "code",
   "execution_count": 39,
   "metadata": {},
   "outputs": [],
   "source": [
    "final_df = df_master.copy()\n",
    "final_df['salary_band'] = final_df.salary.map(lambda x: 0 if x <= final_df.salary.quantile(0.5) else 1)"
   ]
  },
  {
   "cell_type": "code",
   "execution_count": 41,
   "metadata": {},
   "outputs": [
    {
     "data": {
      "text/plain": [
       "(1022, 36)"
      ]
     },
     "execution_count": 41,
     "metadata": {},
     "output_type": "execute_result"
    }
   ],
   "source": [
    "final_df.shape"
   ]
  },
  {
   "cell_type": "code",
   "execution_count": 157,
   "metadata": {
    "scrolled": true
   },
   "outputs": [
    {
     "data": {
      "image/png": "[encoded data removed]",
      "text/plain": [
       "<matplotlib.figure.Figure at 0x1a2149f1d0>"
      ]
     },
     "metadata": {
      "image/png": {
       "height": 313,
       "width": 425
      }
     },
     "output_type": "display_data"
    }
   ],
   "source": [
    "final_df.groupby(by=\"location\").salary.mean().plot(kind=\"bar\");"
   ]
  },
  {
   "cell_type": "markdown",
   "metadata": {},
   "source": [
    "### SKLearn Logistic Regression"
   ]
  },
  {
   "cell_type": "code",
   "execution_count": 125,
   "metadata": {},
   "outputs": [],
   "source": [
    "X = final_df['location']\n",
    "y = final_df['salary_band']"
   ]
  },
  {
   "cell_type": "code",
   "execution_count": 127,
   "metadata": {},
   "outputs": [],
   "source": [
    "X = pd.get_dummies(X) #dropping York in the predictors df, as this has the lowest mean salary as displayed above"
   ]
  },
  {
   "cell_type": "code",
   "execution_count": 128,
   "metadata": {},
   "outputs": [],
   "source": [
    "X.drop(\"York\",inplace=True)"
   ]
  },
  {
   "cell_type": "code",
   "execution_count": 175,
   "metadata": {},
   "outputs": [
    {
     "name": "stdout",
     "output_type": "stream",
     "text": [
      "0.6144814090019569\n"
     ]
    },
    {
     "data": {
      "text/plain": [
       "array([-0.35420716])"
      ]
     },
     "execution_count": 175,
     "metadata": {},
     "output_type": "execute_result"
    }
   ],
   "source": [
    "from sklearn.linear_model import LogisticRegression\n",
    "from sklearn.model_selection import cross_val_predict, cross_val_score, train_test_split\n",
    "from scipy import stats\n",
    "import statsmodels.formula.api as sm\n",
    "stats.chisqprob = lambda chisq, df: stats.chi2.sf(chisq, df)\n",
    "\n",
    "lr = LogisticRegression()\n",
    "\n",
    "lr.fit(X,y)\n",
    "\n",
    "print(lr.score(X,y))\n",
    "\n",
    "lr.coef_\n",
    "lr.intercept_"
   ]
  },
  {
   "cell_type": "markdown",
   "metadata": {},
   "source": [
    "## Adding new variables into Logistic Regression Model"
   ]
  },
  {
   "cell_type": "code",
   "execution_count": 130,
   "metadata": {},
   "outputs": [],
   "source": [
    "final_df.head()\n",
    "predictor_df = final_df.copy()"
   ]
  },
  {
   "cell_type": "code",
   "execution_count": 131,
   "metadata": {},
   "outputs": [],
   "source": [
    "predictor_df.columns\n",
    "predictor_df.drop(['company','job_title','location'],axis=1,inplace=True)"
   ]
  },
  {
   "cell_type": "code",
   "execution_count": 132,
   "metadata": {},
   "outputs": [],
   "source": [
    "predictor_df.drop('salary',axis=1,inplace=True)"
   ]
  },
  {
   "cell_type": "code",
   "execution_count": 134,
   "metadata": {},
   "outputs": [],
   "source": [
    "predictor_df = pd.get_dummies(predictor_df)"
   ]
  },
  {
   "cell_type": "code",
   "execution_count": 136,
   "metadata": {},
   "outputs": [],
   "source": [
    "predictor_df.drop(labels=\"scrape_location_York\",inplace=True)"
   ]
  },
  {
   "cell_type": "code",
   "execution_count": 137,
   "metadata": {},
   "outputs": [],
   "source": [
    "y = predictor_df.pop('salary_band')"
   ]
  },
  {
   "cell_type": "code",
   "execution_count": 138,
   "metadata": {},
   "outputs": [],
   "source": [
    "X_train, X_test, y_train, y_test = train_test_split(predictor_df,y,test_size=0.3,random_state=2018)"
   ]
  },
  {
   "cell_type": "code",
   "execution_count": 139,
   "metadata": {},
   "outputs": [
    {
     "data": {
      "text/plain": [
       "0.7370138273307287"
      ]
     },
     "execution_count": 139,
     "metadata": {},
     "output_type": "execute_result"
    }
   ],
   "source": [
    "cross_val_score(lr,X_train,y_train,cv=5).mean()"
   ]
  },
  {
   "cell_type": "code",
   "execution_count": 141,
   "metadata": {},
   "outputs": [
    {
     "data": {
      "text/plain": [
       "<bound method BaseEstimator.get_params of LogisticRegression(C=1.0, class_weight=None, dual=False, fit_intercept=True,\n",
       "          intercept_scaling=1, max_iter=100, multi_class='ovr', n_jobs=1,\n",
       "          penalty='l2', random_state=None, solver='liblinear', tol=0.0001,\n",
       "          verbose=0, warm_start=False)>"
      ]
     },
     "execution_count": 141,
     "metadata": {},
     "output_type": "execute_result"
    }
   ],
   "source": [
    "lr.get_params"
   ]
  },
  {
   "cell_type": "code",
   "execution_count": 142,
   "metadata": {},
   "outputs": [
    {
     "name": "stdout",
     "output_type": "stream",
     "text": [
      "Fitting 5 folds for each of 100 candidates, totalling 500 fits\n"
     ]
    },
    {
     "name": "stderr",
     "output_type": "stream",
     "text": [
      "[Parallel(n_jobs=1)]: Done 500 out of 500 | elapsed:    2.3s finished\n"
     ]
    },
    {
     "data": {
      "text/plain": [
       "GridSearchCV(cv=5, error_score='raise',\n",
       "       estimator=LogisticRegression(C=1.0, class_weight=None, dual=False, fit_intercept=True,\n",
       "          intercept_scaling=1, max_iter=100, multi_class='ovr', n_jobs=1,\n",
       "          penalty='l2', random_state=None, solver='liblinear', tol=0.0001,\n",
       "          verbose=0, warm_start=False),\n",
       "       fit_params=None, iid=True, n_jobs=1,\n",
       "       param_grid={'C': array([1.00000e-05, 1.59986e-05, 2.55955e-05, 4.09492e-05, 6.55129e-05,\n",
       "       1.04811e-04, 1.67683e-04, 2.68270e-04, 4.29193e-04, 6.86649e-04,\n",
       "       1.09854e-03, 1.75751e-03, 2.81177e-03, 4.49843e-03, 7.19686e-03,\n",
       "       1.15140e-02, 1.84207e-02, 2.94705e-02, 4.71487e-02, 7.54312e...,\n",
       "       1.52642e+04, 2.44205e+04, 3.90694e+04, 6.25055e+04, 1.00000e+05]), 'penalty': ['l1', 'l2']},\n",
       "       pre_dispatch='2*n_jobs', refit=True, return_train_score='warn',\n",
       "       scoring=None, verbose=1)"
      ]
     },
     "execution_count": 142,
     "metadata": {},
     "output_type": "execute_result"
    }
   ],
   "source": [
    "from sklearn.model_selection import GridSearchCV\n",
    "params = {'C':np.logspace(-5,5,50),\n",
    "          'penalty':['l1','l2']}\n",
    "lrgs = GridSearchCV(lr,params,verbose=1,cv=5)\n",
    "lrgs.fit(X_train,y_train)"
   ]
  },
  {
   "cell_type": "code",
   "execution_count": 143,
   "metadata": {},
   "outputs": [
    {
     "data": {
      "text/plain": [
       "{'C': 0.30888435964774846, 'penalty': 'l2'}"
      ]
     },
     "execution_count": 143,
     "metadata": {},
     "output_type": "execute_result"
    }
   ],
   "source": [
    "lrgs.best_params_"
   ]
  },
  {
   "cell_type": "code",
   "execution_count": 144,
   "metadata": {},
   "outputs": [
    {
     "data": {
      "text/plain": [
       "0.7454545454545455"
      ]
     },
     "execution_count": 144,
     "metadata": {},
     "output_type": "execute_result"
    }
   ],
   "source": [
    "lrgs.best_score_"
   ]
  },
  {
   "cell_type": "code",
   "execution_count": 145,
   "metadata": {},
   "outputs": [],
   "source": [
    "best_lr = lrgs.best_estimator_"
   ]
  },
  {
   "cell_type": "code",
   "execution_count": 146,
   "metadata": {},
   "outputs": [],
   "source": [
    "coefficient_df = pd.DataFrame()\n",
    "coefficient_df['Features'] = X_train.columns\n",
    "coefficient_df['LR_Coefficients'] = best_lr.coef_[0]\n",
    "coefficient_df['absolutes'] = abs(best_lr.coef_[0])"
   ]
  },
  {
   "cell_type": "code",
   "execution_count": 148,
   "metadata": {},
   "outputs": [
    {
     "data": {
      "text/html": [
       "<div>\n",
       "<style scoped>\n",
       "    .dataframe tbody tr th:only-of-type {\n",
       "        vertical-align: middle;\n",
       "    }\n",
       "\n",
       "    .dataframe tbody tr th {\n",
       "        vertical-align: top;\n",
       "    }\n",
       "\n",
       "    .dataframe thead th {\n",
       "        text-align: right;\n",
       "    }\n",
       "</style>\n",
       "<table border=\"1\" class=\"dataframe\">\n",
       "  <thead>\n",
       "    <tr style=\"text-align: right;\">\n",
       "      <th></th>\n",
       "      <th>Features</th>\n",
       "      <th>LR_Coefficients</th>\n",
       "      <th>absolutes</th>\n",
       "    </tr>\n",
       "  </thead>\n",
       "  <tbody>\n",
       "    <tr>\n",
       "      <th>28</th>\n",
       "      <td>Graduate</td>\n",
       "      <td>-1.480006</td>\n",
       "      <td>1.480006</td>\n",
       "    </tr>\n",
       "    <tr>\n",
       "      <th>13</th>\n",
       "      <td>Senior</td>\n",
       "      <td>1.423608</td>\n",
       "      <td>1.423608</td>\n",
       "    </tr>\n",
       "    <tr>\n",
       "      <th>15</th>\n",
       "      <td>Manager</td>\n",
       "      <td>1.120301</td>\n",
       "      <td>1.120301</td>\n",
       "    </tr>\n",
       "    <tr>\n",
       "      <th>16</th>\n",
       "      <td>Officer</td>\n",
       "      <td>-1.113746</td>\n",
       "      <td>1.113746</td>\n",
       "    </tr>\n",
       "    <tr>\n",
       "      <th>38</th>\n",
       "      <td>scrape_location_London</td>\n",
       "      <td>1.030148</td>\n",
       "      <td>1.030148</td>\n",
       "    </tr>\n",
       "    <tr>\n",
       "      <th>14</th>\n",
       "      <td>Junior</td>\n",
       "      <td>-0.993930</td>\n",
       "      <td>0.993930</td>\n",
       "    </tr>\n",
       "    <tr>\n",
       "      <th>29</th>\n",
       "      <td>Research</td>\n",
       "      <td>-0.948223</td>\n",
       "      <td>0.948223</td>\n",
       "    </tr>\n",
       "    <tr>\n",
       "      <th>23</th>\n",
       "      <td>Lead</td>\n",
       "      <td>0.864313</td>\n",
       "      <td>0.864313</td>\n",
       "    </tr>\n",
       "    <tr>\n",
       "      <th>10</th>\n",
       "      <td>Engineer</td>\n",
       "      <td>0.823720</td>\n",
       "      <td>0.823720</td>\n",
       "    </tr>\n",
       "    <tr>\n",
       "      <th>1</th>\n",
       "      <td>Education</td>\n",
       "      <td>-0.788695</td>\n",
       "      <td>0.788695</td>\n",
       "    </tr>\n",
       "  </tbody>\n",
       "</table>\n",
       "</div>"
      ],
      "text/plain": [
       "                  Features  LR_Coefficients  absolutes\n",
       "28                Graduate        -1.480006   1.480006\n",
       "13                  Senior         1.423608   1.423608\n",
       "15                 Manager         1.120301   1.120301\n",
       "16                 Officer        -1.113746   1.113746\n",
       "38  scrape_location_London         1.030148   1.030148\n",
       "14                  Junior        -0.993930   0.993930\n",
       "29                Research        -0.948223   0.948223\n",
       "23                    Lead         0.864313   0.864313\n",
       "10                Engineer         0.823720   0.823720\n",
       "1                Education        -0.788695   0.788695"
      ]
     },
     "execution_count": 148,
     "metadata": {},
     "output_type": "execute_result"
    }
   ],
   "source": [
    "coefficient_df.sort_values(by='absolutes',ascending=False).head(10)"
   ]
  },
  {
   "cell_type": "code",
   "execution_count": 149,
   "metadata": {},
   "outputs": [
    {
     "data": {
      "text/plain": [
       "0.7231270358306189"
      ]
     },
     "execution_count": 149,
     "metadata": {},
     "output_type": "execute_result"
    }
   ],
   "source": [
    "best_lr.score(X_test,y_test)"
   ]
  },
  {
   "cell_type": "code",
   "execution_count": 253,
   "metadata": {},
   "outputs": [
    {
     "data": {
      "text/html": [
       "<div>\n",
       "<style scoped>\n",
       "    .dataframe tbody tr th:only-of-type {\n",
       "        vertical-align: middle;\n",
       "    }\n",
       "\n",
       "    .dataframe tbody tr th {\n",
       "        vertical-align: top;\n",
       "    }\n",
       "\n",
       "    .dataframe thead th {\n",
       "        text-align: right;\n",
       "    }\n",
       "</style>\n",
       "<table border=\"1\" class=\"dataframe\">\n",
       "  <thead>\n",
       "    <tr style=\"text-align: right;\">\n",
       "      <th></th>\n",
       "      <th>y_true</th>\n",
       "      <th>y_hat</th>\n",
       "      <th>prob_1</th>\n",
       "      <th>70_percent_threshold</th>\n",
       "    </tr>\n",
       "  </thead>\n",
       "  <tbody>\n",
       "    <tr>\n",
       "      <th>1098</th>\n",
       "      <td>0</td>\n",
       "      <td>0</td>\n",
       "      <td>0.488317</td>\n",
       "      <td>0</td>\n",
       "    </tr>\n",
       "    <tr>\n",
       "      <th>311</th>\n",
       "      <td>1</td>\n",
       "      <td>1</td>\n",
       "      <td>0.840732</td>\n",
       "      <td>1</td>\n",
       "    </tr>\n",
       "    <tr>\n",
       "      <th>601</th>\n",
       "      <td>0</td>\n",
       "      <td>0</td>\n",
       "      <td>0.066136</td>\n",
       "      <td>0</td>\n",
       "    </tr>\n",
       "    <tr>\n",
       "      <th>49</th>\n",
       "      <td>1</td>\n",
       "      <td>1</td>\n",
       "      <td>0.655551</td>\n",
       "      <td>0</td>\n",
       "    </tr>\n",
       "    <tr>\n",
       "      <th>1073</th>\n",
       "      <td>1</td>\n",
       "      <td>1</td>\n",
       "      <td>0.650745</td>\n",
       "      <td>0</td>\n",
       "    </tr>\n",
       "    <tr>\n",
       "      <th>165</th>\n",
       "      <td>0</td>\n",
       "      <td>0</td>\n",
       "      <td>0.388141</td>\n",
       "      <td>0</td>\n",
       "    </tr>\n",
       "    <tr>\n",
       "      <th>28</th>\n",
       "      <td>0</td>\n",
       "      <td>0</td>\n",
       "      <td>0.431208</td>\n",
       "      <td>0</td>\n",
       "    </tr>\n",
       "    <tr>\n",
       "      <th>1091</th>\n",
       "      <td>1</td>\n",
       "      <td>1</td>\n",
       "      <td>0.831459</td>\n",
       "      <td>1</td>\n",
       "    </tr>\n",
       "    <tr>\n",
       "      <th>86</th>\n",
       "      <td>0</td>\n",
       "      <td>0</td>\n",
       "      <td>0.383015</td>\n",
       "      <td>0</td>\n",
       "    </tr>\n",
       "    <tr>\n",
       "      <th>604</th>\n",
       "      <td>1</td>\n",
       "      <td>1</td>\n",
       "      <td>0.502344</td>\n",
       "      <td>0</td>\n",
       "    </tr>\n",
       "  </tbody>\n",
       "</table>\n",
       "</div>"
      ],
      "text/plain": [
       "      y_true  y_hat    prob_1  70_percent_threshold\n",
       "1098       0      0  0.488317                     0\n",
       "311        1      1  0.840732                     1\n",
       "601        0      0  0.066136                     0\n",
       "49         1      1  0.655551                     0\n",
       "1073       1      1  0.650745                     0\n",
       "165        0      0  0.388141                     0\n",
       "28         0      0  0.431208                     0\n",
       "1091       1      1  0.831459                     1\n",
       "86         0      0  0.383015                     0\n",
       "604        1      1  0.502344                     0"
      ]
     },
     "execution_count": 253,
     "metadata": {},
     "output_type": "execute_result"
    }
   ],
   "source": [
    "predictions = best_lr.predict(X_test)\n",
    "predictions_df = pd.DataFrame()\n",
    "predictions_df['y_true'] = y_test\n",
    "predictions_df['y_hat'] = predictions\n",
    "predictions_df['prob_1'] = best_lr.predict_proba(X_test)[:,1]\n",
    "predictions_df['70_percent_threshold'] = predictions_df['prob_1'].map(lambda x: 1 if x>0.7 else 0)\n",
    "predictions_df.head(10)"
   ]
  },
  {
   "cell_type": "code",
   "execution_count": 267,
   "metadata": {},
   "outputs": [
    {
     "data": {
      "text/plain": [
       "0.5938864628820961"
      ]
     },
     "execution_count": 267,
     "metadata": {},
     "output_type": "execute_result"
    }
   ],
   "source": [
    "from sklearn.metrics import f1_score, roc_curve, precision_recall_curve, auc, average_precision_score\n",
    "\n",
    "f1_score(y_test, predictions_df['70_percent_threshold'])"
   ]
  },
  {
   "cell_type": "code",
   "execution_count": 234,
   "metadata": {},
   "outputs": [
    {
     "data": {
      "text/html": [
       "<div>\n",
       "<style scoped>\n",
       "    .dataframe tbody tr th:only-of-type {\n",
       "        vertical-align: middle;\n",
       "    }\n",
       "\n",
       "    .dataframe tbody tr th {\n",
       "        vertical-align: top;\n",
       "    }\n",
       "\n",
       "    .dataframe thead th {\n",
       "        text-align: right;\n",
       "    }\n",
       "</style>\n",
       "<table border=\"1\" class=\"dataframe\">\n",
       "  <thead>\n",
       "    <tr style=\"text-align: right;\">\n",
       "      <th></th>\n",
       "      <th>FPR</th>\n",
       "      <th>TPR</th>\n",
       "      <th>Thresholds</th>\n",
       "    </tr>\n",
       "  </thead>\n",
       "  <tbody>\n",
       "    <tr>\n",
       "      <th>30</th>\n",
       "      <td>0.113208</td>\n",
       "      <td>0.493243</td>\n",
       "      <td>0.678892</td>\n",
       "    </tr>\n",
       "    <tr>\n",
       "      <th>31</th>\n",
       "      <td>0.113208</td>\n",
       "      <td>0.520270</td>\n",
       "      <td>0.655551</td>\n",
       "    </tr>\n",
       "    <tr>\n",
       "      <th>32</th>\n",
       "      <td>0.119497</td>\n",
       "      <td>0.560811</td>\n",
       "      <td>0.650745</td>\n",
       "    </tr>\n",
       "    <tr>\n",
       "      <th>33</th>\n",
       "      <td>0.119497</td>\n",
       "      <td>0.574324</td>\n",
       "      <td>0.646612</td>\n",
       "    </tr>\n",
       "    <tr>\n",
       "      <th>34</th>\n",
       "      <td>0.138365</td>\n",
       "      <td>0.574324</td>\n",
       "      <td>0.635684</td>\n",
       "    </tr>\n",
       "  </tbody>\n",
       "</table>\n",
       "</div>"
      ],
      "text/plain": [
       "         FPR       TPR  Thresholds\n",
       "30  0.113208  0.493243    0.678892\n",
       "31  0.113208  0.520270    0.655551\n",
       "32  0.119497  0.560811    0.650745\n",
       "33  0.119497  0.574324    0.646612\n",
       "34  0.138365  0.574324    0.635684"
      ]
     },
     "execution_count": 234,
     "metadata": {},
     "output_type": "execute_result"
    }
   ],
   "source": [
    "fpr, tpr, thresh = roc_curve(y_test,predictions_df['prob_1'])\n",
    "thresholds_df = pd.DataFrame()\n",
    "thresholds_df['FPR'] = fpr\n",
    "thresholds_df['TPR'] = tpr\n",
    "thresholds_df['Thresholds'] = thresh\n",
    "thresholds_df.iloc[30:70,:].head()"
   ]
  },
  {
   "cell_type": "code",
   "execution_count": 262,
   "metadata": {},
   "outputs": [],
   "source": [
    "prec, recall, thresh = precision_recall_curve(y_test,predictions_df['prob_1'])\n",
    "prc_df = pd.DataFrame()\n",
    "prc_df['Precision'] = prec[:-1]\n",
    "prc_df['Recall'] = recall[:-1]\n",
    "prc_df['Threshold'] = thresh\n"
   ]
  },
  {
   "cell_type": "code",
   "execution_count": 269,
   "metadata": {},
   "outputs": [],
   "source": [
    "average_precision = average_precision_score(y_test, predictions_df['prob_1'])"
   ]
  },
  {
   "cell_type": "code",
   "execution_count": 272,
   "metadata": {},
   "outputs": [
    {
     "data": {
      "image/png": "[encoded data removed]",
      "text/plain": [
       "<matplotlib.figure.Figure at 0x1a32b455c0>"
      ]
     },
     "metadata": {
      "image/png": {
       "height": 277,
       "width": 433
      }
     },
     "output_type": "display_data"
    }
   ],
   "source": [
    "plt.step(recall, prec, color='b', alpha=0.2,\n",
    "         where='post')\n",
    "plt.fill_between(recall, prec, step='post', alpha=0.2,\n",
    "                 color='b')\n",
    "\n",
    "plt.xlabel('Recall')\n",
    "plt.ylabel('Precision')\n",
    "plt.ylim([0.0, 1.05])\n",
    "plt.xlim([0.0, 1.0])\n",
    "plt.title('Precision-Recall curve: AP={0:0.2f}'.format(\n",
    "          average_precision));"
   ]
  },
  {
   "cell_type": "code",
   "execution_count": 222,
   "metadata": {},
   "outputs": [
    {
     "data": {
      "image/png": "[encoded data removed]",
      "text/plain": [
       "<matplotlib.figure.Figure at 0x1a2feb0400>"
      ]
     },
     "metadata": {
      "image/png": {
       "height": 859,
       "width": 1118
      }
     },
     "output_type": "display_data"
    }
   ],
   "source": [
    "fig,ax= plt.subplots(figsize=(15,15))\n",
    "sns.barplot(y=coefficient_df.Features,x=coefficient_df.LR_Coefficients, orient='h', palette='coolwarm',ax=ax);"
   ]
  },
  {
   "cell_type": "code",
   "execution_count": 190,
   "metadata": {},
   "outputs": [
    {
     "data": {
      "image/png": "[encoded data removed]",
      "text/plain": [
       "<matplotlib.figure.Figure at 0x1a27311dd8>"
      ]
     },
     "metadata": {
      "image/png": {
       "height": 244,
       "width": 409
      }
     },
     "output_type": "display_data"
    }
   ],
   "source": [
    "plt.plot(fpr,tpr)\n",
    "plt.plot([0,1],[0,1],'--');"
   ]
  },
  {
   "cell_type": "markdown",
   "metadata": {},
   "source": [
    "## Trying Random Forest Classifier"
   ]
  },
  {
   "cell_type": "code",
   "execution_count": 193,
   "metadata": {},
   "outputs": [
    {
     "data": {
      "text/plain": [
       "0.7355856780152555"
      ]
     },
     "execution_count": 193,
     "metadata": {},
     "output_type": "execute_result"
    }
   ],
   "source": [
    "from sklearn.ensemble import RandomForestClassifier\n",
    "rfc = RandomForestClassifier(max_depth=5)\n",
    "cross_val_score(rfc,X_train,y_train,cv=5).mean()"
   ]
  },
  {
   "cell_type": "code",
   "execution_count": 195,
   "metadata": {},
   "outputs": [
    {
     "data": {
      "text/plain": [
       "{'bootstrap': True,\n",
       " 'class_weight': None,\n",
       " 'criterion': 'gini',\n",
       " 'max_depth': 5,\n",
       " 'max_features': 'auto',\n",
       " 'max_leaf_nodes': None,\n",
       " 'min_impurity_decrease': 0.0,\n",
       " 'min_impurity_split': None,\n",
       " 'min_samples_leaf': 1,\n",
       " 'min_samples_split': 2,\n",
       " 'min_weight_fraction_leaf': 0.0,\n",
       " 'n_estimators': 10,\n",
       " 'n_jobs': 1,\n",
       " 'oob_score': False,\n",
       " 'random_state': None,\n",
       " 'verbose': 0,\n",
       " 'warm_start': False}"
      ]
     },
     "execution_count": 195,
     "metadata": {},
     "output_type": "execute_result"
    }
   ],
   "source": [
    "rfc.get_params()"
   ]
  },
  {
   "cell_type": "code",
   "execution_count": 200,
   "metadata": {},
   "outputs": [
    {
     "data": {
      "text/plain": [
       "(715, 46)"
      ]
     },
     "execution_count": 200,
     "metadata": {},
     "output_type": "execute_result"
    }
   ],
   "source": [
    "X_train.shape"
   ]
  },
  {
   "cell_type": "code",
   "execution_count": 206,
   "metadata": {},
   "outputs": [
    {
     "name": "stdout",
     "output_type": "stream",
     "text": [
      "Fitting 5 folds for each of 240 candidates, totalling 1200 fits\n"
     ]
    },
    {
     "name": "stderr",
     "output_type": "stream",
     "text": [
      "[Parallel(n_jobs=1)]: Done 1200 out of 1200 | elapsed:   23.2s finished\n"
     ]
    },
    {
     "data": {
      "text/plain": [
       "GridSearchCV(cv=5, error_score='raise',\n",
       "       estimator=RandomForestClassifier(bootstrap=True, class_weight=None, criterion='gini',\n",
       "            max_depth=5, max_features='auto', max_leaf_nodes=None,\n",
       "            min_impurity_decrease=0.0, min_impurity_split=None,\n",
       "            min_samples_leaf=1, min_samples_split=2,\n",
       "            min_weight_fraction_leaf=0.0, n_estimators=10, n_jobs=1,\n",
       "            oob_score=False, random_state=None, verbose=0,\n",
       "            warm_start=False),\n",
       "       fit_params=None, iid=True, n_jobs=1,\n",
       "       param_grid={'max_depth': range(1, 21), 'max_features': ['auto', 'log2', 0.5], 'criterion': ['gini', 'entropy'], 'bootstrap': [True, False]},\n",
       "       pre_dispatch='2*n_jobs', refit=True, return_train_score='warn',\n",
       "       scoring=None, verbose=1)"
      ]
     },
     "execution_count": 206,
     "metadata": {},
     "output_type": "execute_result"
    }
   ],
   "source": [
    "params = {'max_depth':range(1,21),\n",
    "          'max_features':[\"auto\",\"log2\",0.5],\n",
    "         'criterion':['gini','entropy'],\n",
    "         'bootstrap':[True,False],\n",
    "         }\n",
    "rfgs = GridSearchCV(rfc,params,verbose=1,cv=5)\n",
    "rfgs.fit(X_train,y_train)"
   ]
  },
  {
   "cell_type": "code",
   "execution_count": 207,
   "metadata": {},
   "outputs": [
    {
     "data": {
      "text/plain": [
       "{'bootstrap': True,\n",
       " 'criterion': 'gini',\n",
       " 'max_depth': 11,\n",
       " 'max_features': 'log2'}"
      ]
     },
     "execution_count": 207,
     "metadata": {},
     "output_type": "execute_result"
    }
   ],
   "source": [
    "rfgs.best_params_"
   ]
  },
  {
   "cell_type": "code",
   "execution_count": 210,
   "metadata": {},
   "outputs": [
    {
     "data": {
      "text/plain": [
       "0.7636363636363637"
      ]
     },
     "execution_count": 210,
     "metadata": {},
     "output_type": "execute_result"
    }
   ],
   "source": [
    "rfgs.best_score_"
   ]
  },
  {
   "cell_type": "code",
   "execution_count": 211,
   "metadata": {},
   "outputs": [],
   "source": [
    "best_rf = rfgs.best_estimator_"
   ]
  },
  {
   "cell_type": "code",
   "execution_count": 213,
   "metadata": {},
   "outputs": [],
   "source": [
    "rf_coefficient_df = pd.DataFrame()\n",
    "rf_coefficient_df['Features'] = X_train.columns\n",
    "rf_coefficient_df['Feature_Importances'] = best_rf.feature_importances_"
   ]
  },
  {
   "cell_type": "code",
   "execution_count": 224,
   "metadata": {},
   "outputs": [
    {
     "data": {
      "text/html": [
       "<div>\n",
       "<style scoped>\n",
       "    .dataframe tbody tr th:only-of-type {\n",
       "        vertical-align: middle;\n",
       "    }\n",
       "\n",
       "    .dataframe tbody tr th {\n",
       "        vertical-align: top;\n",
       "    }\n",
       "\n",
       "    .dataframe thead th {\n",
       "        text-align: right;\n",
       "    }\n",
       "</style>\n",
       "<table border=\"1\" class=\"dataframe\">\n",
       "  <thead>\n",
       "    <tr style=\"text-align: right;\">\n",
       "      <th></th>\n",
       "      <th>Features</th>\n",
       "      <th>Feature_Importances</th>\n",
       "    </tr>\n",
       "  </thead>\n",
       "  <tbody>\n",
       "    <tr>\n",
       "      <th>1</th>\n",
       "      <td>Education</td>\n",
       "      <td>0.095724</td>\n",
       "    </tr>\n",
       "    <tr>\n",
       "      <th>13</th>\n",
       "      <td>Senior</td>\n",
       "      <td>0.095147</td>\n",
       "    </tr>\n",
       "    <tr>\n",
       "      <th>28</th>\n",
       "      <td>Graduate</td>\n",
       "      <td>0.070581</td>\n",
       "    </tr>\n",
       "    <tr>\n",
       "      <th>38</th>\n",
       "      <td>scrape_location_London</td>\n",
       "      <td>0.062752</td>\n",
       "    </tr>\n",
       "    <tr>\n",
       "      <th>29</th>\n",
       "      <td>Research</td>\n",
       "      <td>0.061604</td>\n",
       "    </tr>\n",
       "    <tr>\n",
       "      <th>10</th>\n",
       "      <td>Engineer</td>\n",
       "      <td>0.055091</td>\n",
       "    </tr>\n",
       "    <tr>\n",
       "      <th>15</th>\n",
       "      <td>Manager</td>\n",
       "      <td>0.046546</td>\n",
       "    </tr>\n",
       "    <tr>\n",
       "      <th>14</th>\n",
       "      <td>Junior</td>\n",
       "      <td>0.045642</td>\n",
       "    </tr>\n",
       "    <tr>\n",
       "      <th>16</th>\n",
       "      <td>Officer</td>\n",
       "      <td>0.036571</td>\n",
       "    </tr>\n",
       "    <tr>\n",
       "      <th>8</th>\n",
       "      <td>Analyst</td>\n",
       "      <td>0.029815</td>\n",
       "    </tr>\n",
       "  </tbody>\n",
       "</table>\n",
       "</div>"
      ],
      "text/plain": [
       "                  Features  Feature_Importances\n",
       "1                Education             0.095724\n",
       "13                  Senior             0.095147\n",
       "28                Graduate             0.070581\n",
       "38  scrape_location_London             0.062752\n",
       "29                Research             0.061604\n",
       "10                Engineer             0.055091\n",
       "15                 Manager             0.046546\n",
       "14                  Junior             0.045642\n",
       "16                 Officer             0.036571\n",
       "8                  Analyst             0.029815"
      ]
     },
     "execution_count": 224,
     "metadata": {},
     "output_type": "execute_result"
    }
   ],
   "source": [
    "rf_coefficient_df.sort_values(by='Feature_Importances',ascending=False).head(10)"
   ]
  },
  {
   "cell_type": "code",
   "execution_count": 225,
   "metadata": {},
   "outputs": [
    {
     "data": {
      "text/plain": [
       "0.742671009771987"
      ]
     },
     "execution_count": 225,
     "metadata": {},
     "output_type": "execute_result"
    }
   ],
   "source": [
    "best_rf.score(X_test,y_test)"
   ]
  },
  {
   "cell_type": "code",
   "execution_count": 220,
   "metadata": {},
   "outputs": [
    {
     "data": {
      "image/png": "[encoded data removed]",
      "text/plain": [
       "<matplotlib.figure.Figure at 0x1a2de22cf8>"
      ]
     },
     "metadata": {
      "image/png": {
       "height": 858,
       "width": 1124
      }
     },
     "output_type": "display_data"
    }
   ],
   "source": [
    "fig,ax= plt.subplots(figsize=(15,15))\n",
    "sns.barplot(y=rf_coefficient_df.Features,x=rf_coefficient_df.Feature_Importances, orient='h',ax=ax);"
   ]
  },
  {
   "cell_type": "code",
   "execution_count": 227,
   "metadata": {},
   "outputs": [
    {
     "data": {
      "text/html": [
       "<div>\n",
       "<style scoped>\n",
       "    .dataframe tbody tr th:only-of-type {\n",
       "        vertical-align: middle;\n",
       "    }\n",
       "\n",
       "    .dataframe tbody tr th {\n",
       "        vertical-align: top;\n",
       "    }\n",
       "\n",
       "    .dataframe thead th {\n",
       "        text-align: right;\n",
       "    }\n",
       "</style>\n",
       "<table border=\"1\" class=\"dataframe\">\n",
       "  <thead>\n",
       "    <tr style=\"text-align: right;\">\n",
       "      <th></th>\n",
       "      <th>y_true</th>\n",
       "      <th>y_hat</th>\n",
       "      <th>prob_1</th>\n",
       "      <th>70_percent_threshold</th>\n",
       "    </tr>\n",
       "  </thead>\n",
       "  <tbody>\n",
       "    <tr>\n",
       "      <th>1098</th>\n",
       "      <td>0</td>\n",
       "      <td>1</td>\n",
       "      <td>0.540857</td>\n",
       "      <td>0</td>\n",
       "    </tr>\n",
       "    <tr>\n",
       "      <th>311</th>\n",
       "      <td>1</td>\n",
       "      <td>1</td>\n",
       "      <td>0.876420</td>\n",
       "      <td>1</td>\n",
       "    </tr>\n",
       "    <tr>\n",
       "      <th>601</th>\n",
       "      <td>0</td>\n",
       "      <td>0</td>\n",
       "      <td>0.101680</td>\n",
       "      <td>0</td>\n",
       "    </tr>\n",
       "    <tr>\n",
       "      <th>49</th>\n",
       "      <td>1</td>\n",
       "      <td>1</td>\n",
       "      <td>0.746053</td>\n",
       "      <td>1</td>\n",
       "    </tr>\n",
       "    <tr>\n",
       "      <th>1073</th>\n",
       "      <td>1</td>\n",
       "      <td>1</td>\n",
       "      <td>0.680078</td>\n",
       "      <td>0</td>\n",
       "    </tr>\n",
       "    <tr>\n",
       "      <th>165</th>\n",
       "      <td>0</td>\n",
       "      <td>0</td>\n",
       "      <td>0.393103</td>\n",
       "      <td>0</td>\n",
       "    </tr>\n",
       "    <tr>\n",
       "      <th>28</th>\n",
       "      <td>0</td>\n",
       "      <td>1</td>\n",
       "      <td>0.609555</td>\n",
       "      <td>0</td>\n",
       "    </tr>\n",
       "    <tr>\n",
       "      <th>1091</th>\n",
       "      <td>1</td>\n",
       "      <td>1</td>\n",
       "      <td>0.824259</td>\n",
       "      <td>1</td>\n",
       "    </tr>\n",
       "    <tr>\n",
       "      <th>86</th>\n",
       "      <td>0</td>\n",
       "      <td>0</td>\n",
       "      <td>0.491725</td>\n",
       "      <td>0</td>\n",
       "    </tr>\n",
       "    <tr>\n",
       "      <th>604</th>\n",
       "      <td>1</td>\n",
       "      <td>0</td>\n",
       "      <td>0.429989</td>\n",
       "      <td>0</td>\n",
       "    </tr>\n",
       "  </tbody>\n",
       "</table>\n",
       "</div>"
      ],
      "text/plain": [
       "      y_true  y_hat    prob_1  70_percent_threshold\n",
       "1098       0      1  0.540857                     0\n",
       "311        1      1  0.876420                     1\n",
       "601        0      0  0.101680                     0\n",
       "49         1      1  0.746053                     1\n",
       "1073       1      1  0.680078                     0\n",
       "165        0      0  0.393103                     0\n",
       "28         0      1  0.609555                     0\n",
       "1091       1      1  0.824259                     1\n",
       "86         0      0  0.491725                     0\n",
       "604        1      0  0.429989                     0"
      ]
     },
     "execution_count": 227,
     "metadata": {},
     "output_type": "execute_result"
    }
   ],
   "source": [
    "predictions = best_rf.predict(X_test)\n",
    "predictions_df = pd.DataFrame()\n",
    "predictions_df['y_true'] = y_test\n",
    "predictions_df['y_hat'] = predictions\n",
    "predictions_df['prob_1'] = best_rf.predict_proba(X_test)[:,1]\n",
    "predictions_df['70_percent_threshold'] = predictions_df['prob_1'].map(lambda x: 1 if x>0.7 else 0)\n",
    "predictions_df.head(10)"
   ]
  },
  {
   "cell_type": "code",
   "execution_count": 228,
   "metadata": {},
   "outputs": [
    {
     "data": {
      "text/plain": [
       "0.49056603773584906"
      ]
     },
     "execution_count": 228,
     "metadata": {},
     "output_type": "execute_result"
    }
   ],
   "source": [
    "f1_score(y_test, predictions_df['70_percent_threshold'])"
   ]
  },
  {
   "cell_type": "code",
   "execution_count": 229,
   "metadata": {},
   "outputs": [],
   "source": [
    "fpr, tpr, thresh = roc_curve(y_test,predictions_df['prob_1'])\n",
    "thresholds_df = pd.DataFrame()\n",
    "thresholds_df['FPR'] = fpr\n",
    "thresholds_df['TPR'] = tpr\n",
    "thresholds_df['Thresholds'] = thresh"
   ]
  },
  {
   "cell_type": "code",
   "execution_count": 230,
   "metadata": {},
   "outputs": [
    {
     "data": {
      "image/png": "[encoded data removed]",
      "text/plain": [
       "<matplotlib.figure.Figure at 0x1a30f01748>"
      ]
     },
     "metadata": {
      "image/png": {
       "height": 244,
       "width": 409
      }
     },
     "output_type": "display_data"
    }
   ],
   "source": [
    "plt.plot(fpr,tpr)\n",
    "plt.plot([0,1],[0,1],'--');"
   ]
  },
  {
   "cell_type": "markdown",
   "metadata": {},
   "source": [
    "### Summary"
   ]
  },
  {
   "cell_type": "markdown",
   "metadata": {},
   "source": [
    "After determining the job title and employer keywords to create predictors for my models I ran Logistic Regression and Random Forest on my training data. After using GridSearch to find the optimal parameters for both models, the best score achieved on my testing data for the Logistic Regression model was an accuracy of 72.31%, while the best score for my optimised Random Trees model was 74.27%.\n",
    "\n",
    "As the graphs above show, the Logistic Regression Model coefficients indicate that the keywords \"Graduate\", \"Research\", and \"Education\" are predictors of a low salary, while \"Senior\", \"Manager\" or \"London\" are indicators of a high salary. The Random Forest and it's Feature Importances metric tends to agree that these are key indicators, but it seems to place less significance on terms such as \"Officer\", or \"Head of\". This is most likely because these terms are much less frequently advertised job roles, and are therefore not best features in a decision tree.\n",
    "\n",
    "In regards to the exercise of incorrectly classifying a job as low salary as opposed to high salary, this is a question of minimising false positives in the prediction. I would achieve this by increasing the threshold on my predictions, and classifying anything with less than 70% probability as a low income position. This would make my model less accurate, but increase its precision. The tradeoff for this task is illustrated in the ROC curve for each model, which gives a visualisation of the increased number of false positives for each increase in true positives that my models predict."
   ]
  }
 ],
 "metadata": {
  "kernelspec": {
   "display_name": "Python 3",
   "language": "python",
   "name": "python3"
  },
  "language_info": {
   "codemirror_mode": {
    "name": "ipython",
    "version": 3
   },
   "file_extension": ".py",
   "mimetype": "text/x-python",
   "name": "python",
   "nbconvert_exporter": "python",
   "pygments_lexer": "ipython3",
   "version": "3.6.4"
  },
  "toc": {
   "nav_menu": {},
   "number_sections": false,
   "sideBar": true,
   "skip_h1_title": true,
   "title_cell": "Table of Contents",
   "title_sidebar": "Contents",
   "toc_cell": false,
   "toc_position": {},
   "toc_section_display": "block",
   "toc_window_display": false
  }
 },
 "nbformat": 4,
 "nbformat_minor": 1
}
